{
 "cells": [
  {
   "cell_type": "code",
   "execution_count": 2,
   "metadata": {},
   "outputs": [],
   "source": [
    "import python_tokenizer\n",
    "import unified_tokenizer\n",
    "tokenizer = python_tokenizer.PythonTokenizer()"
   ]
  },
  {
   "cell_type": "code",
   "execution_count": 3,
   "metadata": {},
   "outputs": [],
   "source": [
    "# read a json file and save it as a pandas dataframe\n",
    "import pandas as pd \n",
    "df = pd.read_json('data/variable_misuse/20200621_Python_variable_misuse_datasets_train.json', lines=True)"
   ]
  },
  {
   "cell_type": "code",
   "execution_count": 7,
   "metadata": {},
   "outputs": [
    {
     "name": "stdout",
     "output_type": "stream",
     "text": [
      "function:\n",
      "\n",
      "\n",
      "def __init__(self, parent=None, *args, **kwargs):\n",
      "    QtGui.QListWidget.__init__(self, parent, *args, **kwargs)\n",
      "    self._take_names = []\n",
      "    self.take_names = []\n",
      "\n"
     ]
    }
   ],
   "source": [
    "row = 0\n",
    "print(\"function:\")\n",
    "code = df['function'][row]\n",
    "print(df['function'][row])"
   ]
  },
  {
   "cell_type": "code",
   "execution_count": 23,
   "metadata": {},
   "outputs": [],
   "source": [
    "a_ = tokenizer.tokenize(code)"
   ]
  },
  {
   "cell_type": "code",
   "execution_count": 26,
   "metadata": {},
   "outputs": [
    {
     "data": {
      "text/plain": [
       "['___NL___',\n",
       " '___NL___',\n",
       " 'def',\n",
       " '__^',\n",
       " 'init__',\n",
       " '(',\n",
       " 'self',\n",
       " ',',\n",
       " 'parent',\n",
       " '=',\n",
       " 'None',\n",
       " ',',\n",
       " '*',\n",
       " 'args',\n",
       " ',',\n",
       " '**',\n",
       " 'kwargs',\n",
       " ')',\n",
       " ':',\n",
       " '___NEWLINE___',\n",
       " '___INDENT___    ',\n",
       " 'Qt^',\n",
       " 'Gui',\n",
       " '.',\n",
       " 'Q^',\n",
       " 'List^',\n",
       " 'Widget',\n",
       " '.',\n",
       " '__^',\n",
       " 'init__',\n",
       " '(',\n",
       " 'self',\n",
       " ',',\n",
       " 'parent',\n",
       " ',',\n",
       " '*',\n",
       " 'args',\n",
       " ',',\n",
       " '**',\n",
       " 'kwargs',\n",
       " ')',\n",
       " '___NEWLINE___',\n",
       " 'self',\n",
       " '.',\n",
       " '_^',\n",
       " 'take_^',\n",
       " 'names',\n",
       " '=',\n",
       " '[',\n",
       " ']',\n",
       " '___NEWLINE___',\n",
       " 'self',\n",
       " '.',\n",
       " 'take_^',\n",
       " 'names',\n",
       " '=',\n",
       " '[',\n",
       " ']',\n",
       " '___DEDENT___',\n",
       " '___EOS___']"
      ]
     },
     "execution_count": 26,
     "metadata": {},
     "output_type": "execute_result"
    }
   ],
   "source": [
    "a_ "
   ]
  },
  {
   "cell_type": "code",
   "execution_count": 24,
   "metadata": {},
   "outputs": [
    {
     "data": {
      "text/plain": [
       "60"
      ]
     },
     "execution_count": 24,
     "metadata": {},
     "output_type": "execute_result"
    }
   ],
   "source": [
    "len(a_)"
   ]
  },
  {
   "cell_type": "code",
   "execution_count": 39,
   "metadata": {},
   "outputs": [],
   "source": [
    "c = tokenizer.subtokenize_full_tokens(a)"
   ]
  },
  {
   "cell_type": "code",
   "execution_count": 41,
   "metadata": {},
   "outputs": [
    {
     "data": {
      "text/plain": [
       "52"
      ]
     },
     "execution_count": 41,
     "metadata": {},
     "output_type": "execute_result"
    }
   ],
   "source": [
    "len(c)"
   ]
  },
  {
   "cell_type": "code",
   "execution_count": 18,
   "metadata": {},
   "outputs": [],
   "source": [
    "a = tokenizer.tokenize_and_abstract(code)"
   ]
  },
  {
   "cell_type": "code",
   "execution_count": 20,
   "metadata": {},
   "outputs": [],
   "source": [
    "b = tokenizer.untokenize_abstract(code)"
   ]
  },
  {
   "cell_type": "code",
   "execution_count": 21,
   "metadata": {},
   "outputs": [
    {
     "data": {
      "text/plain": [
       "'\\n \\n d e f   _ _ i n i t _ _ (s e l f ,  p a r e n t =N o n e ,  *a r g s ,  **k w a r g s ):\\n         Q t G u i .Q L i s t W i d g e t ._ _ i n i t _ _ (s e l f ,  p a r e n t ,  *a r g s ,  **k w a r g s )\\n         s e l f ._ t a k e _ n a m e s   =  []\\n         s e l f .t a k e _ n a m e s   =  []\\n '"
      ]
     },
     "execution_count": 21,
     "metadata": {},
     "output_type": "execute_result"
    }
   ],
   "source": [
    "b"
   ]
  },
  {
   "cell_type": "code",
   "execution_count": 37,
   "metadata": {},
   "outputs": [
    {
     "data": {
      "text/plain": [
       "(52, 302, 60)"
      ]
     },
     "execution_count": 37,
     "metadata": {},
     "output_type": "execute_result"
    }
   ],
   "source": [
    "len(a), len(b), len(a_)"
   ]
  },
  {
   "cell_type": "code",
   "execution_count": 35,
   "metadata": {},
   "outputs": [
    {
     "data": {
      "text/plain": [
       "AbstractToken(spelling='___NL___', kind=<TokenKind.PUNCTUATION: 1>, metadata=TokenMetadata(start=Position(line=1, column=0), end=Position(line=2, column=0)))"
      ]
     },
     "execution_count": 35,
     "metadata": {},
     "output_type": "execute_result"
    }
   ],
   "source": [
    "a[1]"
   ]
  },
  {
   "cell_type": "code",
   "execution_count": 29,
   "metadata": {},
   "outputs": [],
   "source": [
    "token = a[0]"
   ]
  },
  {
   "cell_type": "code",
   "execution_count": 36,
   "metadata": {},
   "outputs": [
    {
     "data": {
      "text/plain": [
       "['___NL___',\n",
       " '___NL___',\n",
       " 'def',\n",
       " '__^',\n",
       " 'init__',\n",
       " '(',\n",
       " 'self',\n",
       " ',',\n",
       " 'parent',\n",
       " '=',\n",
       " 'None',\n",
       " ',',\n",
       " '*',\n",
       " 'args',\n",
       " ',',\n",
       " '**',\n",
       " 'kwargs',\n",
       " ')',\n",
       " ':',\n",
       " '___NEWLINE___',\n",
       " '___INDENT___    ',\n",
       " 'Qt^',\n",
       " 'Gui',\n",
       " '.',\n",
       " 'Q^',\n",
       " 'List^',\n",
       " 'Widget',\n",
       " '.',\n",
       " '__^',\n",
       " 'init__',\n",
       " '(',\n",
       " 'self',\n",
       " ',',\n",
       " 'parent',\n",
       " ',',\n",
       " '*',\n",
       " 'args',\n",
       " ',',\n",
       " '**',\n",
       " 'kwargs',\n",
       " ')',\n",
       " '___NEWLINE___',\n",
       " 'self',\n",
       " '.',\n",
       " '_^',\n",
       " 'take_^',\n",
       " 'names',\n",
       " '=',\n",
       " '[',\n",
       " ']',\n",
       " '___NEWLINE___',\n",
       " 'self',\n",
       " '.',\n",
       " 'take_^',\n",
       " 'names',\n",
       " '=',\n",
       " '[',\n",
       " ']',\n",
       " '___DEDENT___',\n",
       " '___EOS___']"
      ]
     },
     "execution_count": 36,
     "metadata": {},
     "output_type": "execute_result"
    }
   ],
   "source": [
    "a_"
   ]
  },
  {
   "cell_type": "code",
   "execution_count": 31,
   "metadata": {},
   "outputs": [
    {
     "data": {
      "text/plain": [
       "<TokenKind.PUNCTUATION: 1>"
      ]
     },
     "execution_count": 31,
     "metadata": {},
     "output_type": "execute_result"
    }
   ],
   "source": [
    "token.kind"
   ]
  },
  {
   "cell_type": "code",
   "execution_count": 34,
   "metadata": {},
   "outputs": [
    {
     "data": {
      "text/plain": [
       "0"
      ]
     },
     "execution_count": 34,
     "metadata": {},
     "output_type": "execute_result"
    }
   ],
   "source": []
  },
  {
   "cell_type": "code",
   "execution_count": 42,
   "metadata": {},
   "outputs": [
    {
     "data": {
      "text/plain": [
       "{'\\n': '___NLCHAR___', '\\r': '___CR___', '^': '___CARET___'}"
      ]
     },
     "execution_count": 42,
     "metadata": {},
     "output_type": "execute_result"
    }
   ],
   "source": [
    "tokenizer.mappings"
   ]
  },
  {
   "cell_type": "code",
   "execution_count": null,
   "metadata": {},
   "outputs": [],
   "source": []
  }
 ],
 "metadata": {
  "kernelspec": {
   "display_name": "Python 3.8.5 ('cuBERT')",
   "language": "python",
   "name": "python3"
  },
  "language_info": {
   "codemirror_mode": {
    "name": "ipython",
    "version": 3
   },
   "file_extension": ".py",
   "mimetype": "text/x-python",
   "name": "python",
   "nbconvert_exporter": "python",
   "pygments_lexer": "ipython3",
   "version": "3.8.13"
  },
  "orig_nbformat": 4,
  "vscode": {
   "interpreter": {
    "hash": "8492d8711f92acbd6f1f5de70669e0e0dfa9ae8288673c2cd77f66771fab39c9"
   }
  }
 },
 "nbformat": 4,
 "nbformat_minor": 2
}
