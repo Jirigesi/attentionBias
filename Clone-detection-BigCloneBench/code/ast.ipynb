{
 "cells": [
  {
   "cell_type": "code",
   "execution_count": 1,
   "metadata": {},
   "outputs": [],
   "source": [
    "from tree_sitter import Language, Parser\n",
    "import javalang\n",
    "\n",
    "Language.build_library(\n",
    "\t# Store the library in the `build` directory\n",
    "\t'build/my-languages.so',\n",
    "\t\n",
    "\t# Include one or more languages\n",
    "\t[\n",
    "\t\t'/Users/jirigesi/Documents/tree-sitter-java'\n",
    "\t]\n",
    ")\n",
    "\n",
    "JAVA_LANGUAGE = Language('build/my-languages.so', 'java')\n",
    "parser = Parser()\n",
    "\n",
    "parser.set_language(JAVA_LANGUAGE)\n",
    "\n",
    "example = \"class Simple{ public static void main(String args[]){ System.out.println( 'Hello Java'); }}\"\n",
    "\n",
    "example = \" \".join(example.split())\n",
    "code = example.replace(\"{\", \" {\").strip()\n",
    "token_list = example.split(' ')\n",
    "\n",
    "tree = parser.parse(bytes(example, \"utf8\"))\n",
    "\n",
    "root_node = tree.root_node"
   ]
  },
  {
   "cell_type": "code",
   "execution_count": 2,
   "metadata": {},
   "outputs": [],
   "source": [
    "declaration = {}\n",
    "\n",
    "def traverse(node, depth=0):\n",
    "    if 'declaration' in node.type:\n",
    "        data = example[node.start_byte:node.end_byte].split('{')[0].strip().split(' ')\n",
    "        \n",
    "        if node.type in declaration:\n",
    "            declaration[node.type].append(data)\n",
    "        else:\n",
    "            declaration[node.type] = [data]\n",
    "    for child in node.children:\n",
    "        traverse(child, depth + 1)\n",
    "\n",
    "def label_tokens(token_list, declaration):\n",
    "    types = [] \n",
    "    for token in token_list:\n",
    "        flag = False\n",
    "        for key in declaration:\n",
    "            for value in declaration[key]:\n",
    "                if token in value:\n",
    "                    types.append(key)\n",
    "                    flag = True\n",
    "                    break\n",
    "            if flag:\n",
    "                break\n",
    "        if not flag:\n",
    "            types.append(\"other\")\n",
    "    return types"
   ]
  },
  {
   "cell_type": "code",
   "execution_count": 3,
   "metadata": {},
   "outputs": [],
   "source": [
    "traverse(root_node)\n",
    "types = label_tokens(token_list, declaration)"
   ]
  },
  {
   "cell_type": "code",
   "execution_count": 4,
   "metadata": {},
   "outputs": [],
   "source": [
    "def get_position_mapping(code):\n",
    "    right = 0\n",
    "    left = 0\n",
    "    postion_mapping = [] \n",
    "    while right < len(code):\n",
    "        if code[right] == ' ':\n",
    "            postion_mapping.append((left, right))\n",
    "            left = right + 1\n",
    "        right += 1\n",
    "    # add the last token\n",
    "    postion_mapping.append((left, right))\n",
    "    return postion_mapping"
   ]
  },
  {
   "cell_type": "code",
   "execution_count": 5,
   "metadata": {},
   "outputs": [],
   "source": [
    "postion_mapping = get_position_mapping(code)"
   ]
  },
  {
   "cell_type": "code",
   "execution_count": 6,
   "metadata": {},
   "outputs": [
    {
     "data": {
      "text/plain": [
       "\"class Simple { public static void main(String args[]) { System.out.println( 'Hello Java'); }}\""
      ]
     },
     "execution_count": 6,
     "metadata": {},
     "output_type": "execute_result"
    }
   ],
   "source": [
    "code"
   ]
  },
  {
   "cell_type": "code",
   "execution_count": 7,
   "metadata": {},
   "outputs": [
    {
     "data": {
      "text/plain": [
       "93"
      ]
     },
     "execution_count": 7,
     "metadata": {},
     "output_type": "execute_result"
    }
   ],
   "source": [
    "len(code)"
   ]
  },
  {
   "cell_type": "code",
   "execution_count": 8,
   "metadata": {},
   "outputs": [
    {
     "data": {
      "text/plain": [
       "(13, 11, 11)"
      ]
     },
     "execution_count": 8,
     "metadata": {},
     "output_type": "execute_result"
    }
   ],
   "source": [
    "len(postion_mapping), len(token_list), len(types)"
   ]
  },
  {
   "cell_type": "code",
   "execution_count": 9,
   "metadata": {},
   "outputs": [
    {
     "data": {
      "text/plain": [
       "[(0, 5),\n",
       " (6, 12),\n",
       " (13, 14),\n",
       " (15, 21),\n",
       " (22, 28),\n",
       " (29, 33),\n",
       " (34, 45),\n",
       " (46, 53),\n",
       " (54, 55),\n",
       " (56, 75),\n",
       " (76, 82),\n",
       " (83, 90),\n",
       " (91, 93)]"
      ]
     },
     "execution_count": 9,
     "metadata": {},
     "output_type": "execute_result"
    }
   ],
   "source": [
    "postion_mapping"
   ]
  },
  {
   "cell_type": "code",
   "execution_count": 10,
   "metadata": {},
   "outputs": [],
   "source": [
    "def get_extended_types(token_list, types):\n",
    "    tree = list(javalang.tokenizer.tokenize(\" \".join(token_list)))\n",
    "    code = ' '.join(token_list)\n",
    "    right = 0\n",
    "    left = 0\n",
    "\n",
    "    postion_mapping = [] \n",
    "\n",
    "    while right < len(code):\n",
    "        if code[right] == ' ':\n",
    "            postion_mapping.append((left, right))\n",
    "            left = right + 1\n",
    "        right += 1\n",
    "\n",
    "    # add the last token\n",
    "    postion_mapping.append((left, right))\n",
    "    \n",
    "    extended_types = []\n",
    "    left = 0\n",
    "\n",
    "    for node in tree:\n",
    "        node = str(node).split(' ')\n",
    "        left = int(node[-1]) -1\n",
    "        right = left + len(node[1][1:-1])\n",
    "        # check (left, right) in postion_mapping and get the index\n",
    "        for i in range(len(postion_mapping)):\n",
    "            if left >= postion_mapping[i][0] and right <= postion_mapping[i][1]:\n",
    "                extended_types.append([types[i], node[1]])\n",
    "                break\n",
    "    return extended_types"
   ]
  },
  {
   "cell_type": "code",
   "execution_count": 11,
   "metadata": {},
   "outputs": [],
   "source": [
    "extended_types = get_extended_types(token_list, types)"
   ]
  },
  {
   "cell_type": "code",
   "execution_count": 12,
   "metadata": {},
   "outputs": [
    {
     "data": {
      "text/plain": [
       "[['class_declaration', '\"class\"'],\n",
       " ['other', '\"Simple\"'],\n",
       " ['other', '\"{\"'],\n",
       " ['method_declaration', '\"public\"'],\n",
       " ['method_declaration', '\"static\"'],\n",
       " ['method_declaration', '\"void\"'],\n",
       " ['method_declaration', '\"main\"'],\n",
       " ['method_declaration', '\"(\"'],\n",
       " ['method_declaration', '\"String\"'],\n",
       " ['other', '\"args\"'],\n",
       " ['other', '\"[\"'],\n",
       " ['other', '\"]\"'],\n",
       " ['other', '\")\"'],\n",
       " ['other', '\"{\"'],\n",
       " ['other', '\"System\"'],\n",
       " ['other', '\".\"'],\n",
       " ['other', '\"out\"'],\n",
       " ['other', '\".\"'],\n",
       " ['other', '\"println\"'],\n",
       " ['other', '\"(\"'],\n",
       " ['other', '\"\\'Hello'],\n",
       " ['other', '\")\"'],\n",
       " ['other', '\";\"'],\n",
       " ['other', '\"}\"'],\n",
       " ['other', '\"}\"']]"
      ]
     },
     "execution_count": 12,
     "metadata": {},
     "output_type": "execute_result"
    }
   ],
   "source": [
    "extended_types"
   ]
  },
  {
   "cell_type": "code",
   "execution_count": null,
   "metadata": {},
   "outputs": [],
   "source": []
  }
 ],
 "metadata": {
  "kernelspec": {
   "display_name": "CodeBert",
   "language": "python",
   "name": "python3"
  },
  "language_info": {
   "codemirror_mode": {
    "name": "ipython",
    "version": 3
   },
   "file_extension": ".py",
   "mimetype": "text/x-python",
   "name": "python",
   "nbconvert_exporter": "python",
   "pygments_lexer": "ipython3",
   "version": "3.10.4"
  },
  "orig_nbformat": 4,
  "vscode": {
   "interpreter": {
    "hash": "b13e3fd3289f8bb387fc7ab81946cd58b1691644cd9d3c76126fbd09f58dbdd6"
   }
  }
 },
 "nbformat": 4,
 "nbformat_minor": 2
}
