{
 "cells": [
  {
   "cell_type": "code",
   "execution_count": 1,
   "metadata": {},
   "outputs": [],
   "source": [
    "import torch\n",
    "from torch.utils.data import DataLoader, Dataset, SequentialSampler, RandomSampler,TensorDataset\n",
    "from transformers import  RobertaConfig, RobertaModel, RobertaTokenizer\n",
    "import argparse\n",
    "import json\n",
    "import os\n",
    "from model2 import Model\n",
    "from torch.utils.data import DataLoader, Dataset, SequentialSampler, RandomSampler,TensorDataset\n",
    "import random\n",
    "import multiprocessing\n",
    "from tqdm import tqdm, trange\n",
    "import numpy as np\n",
    "import javalang\n",
    "import pandas as pd\n",
    "import matplotlib.pyplot as plt\n",
    "import matplotlib.ticker as ticker\n",
    "np.random.seed(0)\n",
    "import seaborn as sns\n",
    "import collections\n",
    "import pickle\n",
    "import sklearn\n",
    "from matplotlib import cm\n",
    "from sklearn import manifold\n",
    "\n",
    "sns.set_style(\"darkgrid\")\n",
    "# Pretty colors\n",
    "BLACK = \"k\"\n",
    "GREEN = \"#59d98e\"\n",
    "SEA = \"#159d82\"\n",
    "BLUE = \"#3498db\"\n",
    "PURPLE = \"#9b59b6\"\n",
    "GREY = \"#95a5a6\"\n",
    "RED = \"#e74c3c\"\n",
    "ORANGE = \"#f39c12\""
   ]
  },
  {
   "cell_type": "code",
   "execution_count": 2,
   "metadata": {},
   "outputs": [],
   "source": [
    "class TextDataset(Dataset):\n",
    "    def __init__(self, tokenizer, file_path='train', block_size=512,pool=None):\n",
    "        postfix=file_path.split('/')[-1].split('.txt')[0]\n",
    "        self.examples = []\n",
    "        index_filename=file_path\n",
    "        print(\"Creating features from index file at %s \", index_filename)\n",
    "        url_to_code={}\n",
    "        with open('/'.join(index_filename.split('/')[:-1])+'/data.jsonl') as f:\n",
    "            for line in f:\n",
    "                line=line.strip()\n",
    "                js=json.loads(line)\n",
    "                url_to_code[js['idx']]=js['func']\n",
    "        data=[]\n",
    "        cache={}\n",
    "        f=open(index_filename)\n",
    "        with open(index_filename) as f:\n",
    "            for line in f:\n",
    "                line=line.strip()\n",
    "                url1,url2,label=line.split('\\t')\n",
    "                if url1 not in url_to_code or url2 not in url_to_code:\n",
    "                    continue\n",
    "                if label=='0':\n",
    "                    label=0\n",
    "                else:\n",
    "                    label=1\n",
    "                data.append((url1,url2,label,tokenizer,cache,url_to_code))\n",
    "        \n",
    "        data=data[:1000]\n",
    "\n",
    "        self.examples=pool.map(get_example,tqdm(data,total=len(data)))\n",
    "    def __len__(self):\n",
    "        return len(self.examples)\n",
    "\n",
    "    def __getitem__(self, item):\n",
    "        return torch.tensor(self.examples[item].input_ids),torch.tensor(self.examples[item].label)\n"
   ]
  },
  {
   "cell_type": "code",
   "execution_count": 3,
   "metadata": {},
   "outputs": [],
   "source": [
    "def get_example(item):\n",
    "    url1,url2,label,tokenizer,cache,url_to_code=item\n",
    "    if url1 in cache:\n",
    "        code1=cache[url1].copy()\n",
    "    else:\n",
    "        try:\n",
    "            code=' '.join(url_to_code[url1].split())\n",
    "        except:\n",
    "            code=\"\"\n",
    "        code1=tokenizer.tokenize(code)\n",
    "    if url2 in cache:\n",
    "        code2=cache[url2].copy()\n",
    "    else:\n",
    "        try:\n",
    "            code=' '.join(url_to_code[url2].split())\n",
    "        except:\n",
    "            code=\"\"\n",
    "        code2=tokenizer.tokenize(code)\n",
    "        \n",
    "    return convert_examples_to_features(code1,code2,label,url1,url2,tokenizer,block_size, cache)"
   ]
  },
  {
   "cell_type": "code",
   "execution_count": 4,
   "metadata": {},
   "outputs": [],
   "source": [
    "class InputFeatures(object):\n",
    "    \"\"\"A single training/test features for a example.\"\"\"\n",
    "    def __init__(self,\n",
    "                 input_tokens,\n",
    "                 input_ids,\n",
    "                 label,\n",
    "                 url1,\n",
    "                 url2):\n",
    "        self.input_tokens = input_tokens\n",
    "        self.input_ids = input_ids\n",
    "        self.label=label\n",
    "        self.url1=url1\n",
    "        self.url2=url2"
   ]
  },
  {
   "cell_type": "code",
   "execution_count": 5,
   "metadata": {},
   "outputs": [],
   "source": [
    "def load_and_cache_examples(tokenizer, \n",
    "                            test_data_file, \n",
    "                            block_size, \n",
    "                            evaluate=False,\n",
    "                            test=False,\n",
    "                            pool=None):\n",
    "    dataset = TextDataset(tokenizer, file_path=test_data_file,block_size=block_size,pool=pool)\n",
    "    return dataset"
   ]
  },
  {
   "cell_type": "code",
   "execution_count": 6,
   "metadata": {},
   "outputs": [],
   "source": [
    "def convert_examples_to_features(code1_tokens,code2_tokens,label,url1,url2,tokenizer,block_size,cache):\n",
    "    code1_tokens=code1_tokens[:block_size-2]\n",
    "    code1_tokens =[tokenizer.cls_token]+code1_tokens+[tokenizer.sep_token]\n",
    "    code2_tokens=code2_tokens[:block_size-2]\n",
    "    code2_tokens =[tokenizer.cls_token]+code2_tokens+[tokenizer.sep_token]  \n",
    "    \n",
    "    code1_ids=tokenizer.convert_tokens_to_ids(code1_tokens)\n",
    "    padding_length = block_size - len(code1_ids)\n",
    "    code1_ids+=[tokenizer.pad_token_id]*padding_length\n",
    "    \n",
    "    code2_ids=tokenizer.convert_tokens_to_ids(code2_tokens)\n",
    "    padding_length = block_size - len(code2_ids)\n",
    "    code2_ids+=[tokenizer.pad_token_id]*padding_length\n",
    "    \n",
    "    source_tokens=code1_tokens+code2_tokens\n",
    "    source_ids=code1_ids+code2_ids\n",
    "    return InputFeatures(source_tokens,source_ids,label,url1,url2)"
   ]
  },
  {
   "cell_type": "code",
   "execution_count": 7,
   "metadata": {},
   "outputs": [],
   "source": [
    "device = torch.device(\"cuda\" if torch.cuda.is_available() else \"cpu\")\n",
    "\n",
    "config = RobertaConfig.from_pretrained('microsoft/codebert-base')\n",
    "\n",
    "tokenizer = RobertaTokenizer.from_pretrained('roberta-base')\n",
    "\n",
    "model = RobertaModel.from_pretrained('microsoft/codebert-base',\n",
    "                                    output_attentions=True, \n",
    "                                    output_hidden_states=True)\n",
    "\n",
    "model=Model(model,config,tokenizer)\n",
    "\n",
    "checkpoint_prefix = \"saved_models/checkpoint-best-f1/model.bin\"\n",
    "\n",
    "model.load_state_dict(torch.load(checkpoint_prefix))\n",
    "\n",
    "model = model.to(device)"
   ]
  },
  {
   "cell_type": "code",
   "execution_count": 8,
   "metadata": {},
   "outputs": [
    {
     "data": {
      "text/plain": [
       "RobertaConfig {\n",
       "  \"architectures\": [\n",
       "    \"RobertaModel\"\n",
       "  ],\n",
       "  \"attention_probs_dropout_prob\": 0.1,\n",
       "  \"bos_token_id\": 0,\n",
       "  \"classifier_dropout\": null,\n",
       "  \"eos_token_id\": 2,\n",
       "  \"hidden_act\": \"gelu\",\n",
       "  \"hidden_dropout_prob\": 0.1,\n",
       "  \"hidden_size\": 768,\n",
       "  \"initializer_range\": 0.02,\n",
       "  \"intermediate_size\": 3072,\n",
       "  \"layer_norm_eps\": 1e-05,\n",
       "  \"max_position_embeddings\": 514,\n",
       "  \"model_type\": \"roberta\",\n",
       "  \"num_attention_heads\": 12,\n",
       "  \"num_hidden_layers\": 12,\n",
       "  \"output_past\": true,\n",
       "  \"pad_token_id\": 1,\n",
       "  \"position_embedding_type\": \"absolute\",\n",
       "  \"transformers_version\": \"4.22.1\",\n",
       "  \"type_vocab_size\": 1,\n",
       "  \"use_cache\": true,\n",
       "  \"vocab_size\": 50265\n",
       "}"
      ]
     },
     "execution_count": 8,
     "metadata": {},
     "output_type": "execute_result"
    }
   ],
   "source": [
    "config"
   ]
  },
  {
   "cell_type": "code",
   "execution_count": 9,
   "metadata": {},
   "outputs": [
    {
     "name": "stdout",
     "output_type": "stream",
     "text": [
      "Creating features from index file at %s  ../dataset/valid.txt\n"
     ]
    },
    {
     "name": "stderr",
     "output_type": "stream",
     "text": [
      "100%|██████████| 1000/1000 [00:08<00:00, 119.52it/s]\n"
     ]
    }
   ],
   "source": [
    "test_data_file = \"../dataset/valid.txt\"\n",
    "block_size = 400\n",
    "cpu_cont = 16\n",
    "pool = multiprocessing.Pool(cpu_cont)\n",
    "eval_dataset = load_and_cache_examples(tokenizer,\n",
    "                                       test_data_file,\n",
    "                                       block_size,\n",
    "                                       evaluate=True,pool=pool)"
   ]
  },
  {
   "cell_type": "code",
   "execution_count": 10,
   "metadata": {},
   "outputs": [],
   "source": [
    "file_path = \"../dataset/valid.txt\"\n",
    "postfix=file_path.split('/')[-1].split('.txt')[0]\n",
    "index_filename=file_path\n",
    "url_to_code={}\n",
    "with open('/'.join(index_filename.split('/')[:-1])+'/data.jsonl') as f:\n",
    "    for line in f:\n",
    "        line=line.strip()\n",
    "        js=json.loads(line)\n",
    "        url_to_code[js['idx']]=js['func']\n",
    "data=[]\n",
    "cache={}\n",
    "f=open(index_filename)\n",
    "with open(index_filename) as f:\n",
    "    lines = 1000\n",
    "    added_lines = 0\n",
    "    for line in f:\n",
    "        if added_lines >= lines:\n",
    "            break\n",
    "        line=line.strip()\n",
    "        url1,url2,label=line.split('\\t')\n",
    "        if url1 not in url_to_code or url2 not in url_to_code:\n",
    "            continue\n",
    "        if label=='0':\n",
    "            label=0\n",
    "        else:\n",
    "            label=1\n",
    "        data.append((url1,url2,label,' '.join(url_to_code[url1].split()), ' '.join(url_to_code[url2].split())))\n",
    "        added_lines += 1"
   ]
  },
  {
   "cell_type": "code",
   "execution_count": 11,
   "metadata": {},
   "outputs": [
    {
     "data": {
      "text/plain": [
       "('13653451',\n",
       " '21955002',\n",
       " 0,\n",
       " 'public ViewInitListener() throws IOException { URL url = this.getClass().getResource(VIEW_INIT_CONFIG); log.debug(\"Loading configuration from: \" + url); config = new Properties(); InputStream in = url.openStream(); config.load(in); in.close(); }',\n",
       " 'public void run() { String s, s2; s = \"\"; s2 = \"\"; try { URL url = new URL(\"http://www.m-w.com/dictionary/\" + Word); BufferedReader in = new BufferedReader(new InputStreamReader(url.openStream())); String str; while (((str = in.readLine()) != null) && (!stopped)) { s = s + str; } in.close(); } catch (MalformedURLException e) { } catch (IOException e) { } Pattern pattern = Pattern.compile(\"popWin\\\\\\\\(\\'/cgi-bin/(.+?)\\'\", Pattern.CASE_INSENSITIVE | Pattern.DOTALL); Matcher matcher = pattern.matcher(s); if ((!stopped) && (matcher.find())) { String newurl = \"http://m-w.com/cgi-bin/\" + matcher.group(1); try { URL url2 = new URL(newurl); BufferedReader in2 = new BufferedReader(new InputStreamReader(url2.openStream())); String str; while (((str = in2.readLine()) != null) && (!stopped)) { s2 = s2 + str; } in2.close(); } catch (MalformedURLException e) { } catch (IOException e) { } Pattern pattern2 = Pattern.compile(\"<A HREF=\\\\\"http://(.+?)\\\\\">Click here to listen with your default audio player\", Pattern.CASE_INSENSITIVE | Pattern.DOTALL); Matcher matcher2 = pattern2.matcher(s2); if ((!stopped) && (matcher2.find())) { if (getWave(\"http://\" + matcher2.group(1))) label.setEnabled(true); } } button.setEnabled(true); }')"
      ]
     },
     "execution_count": 11,
     "metadata": {},
     "output_type": "execute_result"
    }
   ],
   "source": [
    "data[0]"
   ]
  },
  {
   "cell_type": "code",
   "execution_count": 12,
   "metadata": {},
   "outputs": [],
   "source": [
    "def get_syntax_types_for_code(code_snippet):\n",
    "  types = [\"[CLS]\"]\n",
    "  code = [\"<s>\"]\n",
    "  tree = list(javalang.tokenizer.tokenize(code_snippet))\n",
    "  \n",
    "  for i in tree:\n",
    "    j = str(i)\n",
    "    j = j.split(\" \")\n",
    "    if j[1] == '\"MASK\"':\n",
    "      types.append('[MASK]')\n",
    "      code.append('<mask>')\n",
    "    else:\n",
    "      types.append(j[0].lower())\n",
    "      code.append(j[1][1:-1])\n",
    "    \n",
    "  types.append(\"[SEP]\")\n",
    "  code.append(\"</s>\")\n",
    "  return np.array(types), ' '.join(code)"
   ]
  },
  {
   "cell_type": "code",
   "execution_count": 13,
   "metadata": {},
   "outputs": [],
   "source": [
    "def get_start_end_of_token_when_tokenized(code, types, tokenizer):\n",
    "  reindexed_types = []\n",
    "  start = 0\n",
    "  end = 0\n",
    "  for index, each_token in enumerate(code.split(\" \")):\n",
    "    tokenized_list = tokenizer.tokenize(each_token)\n",
    "    for i in range(len(tokenized_list)):\n",
    "      end += 1\n",
    "    reindexed_types.append((start, end-1))\n",
    "    start = end\n",
    "  return reindexed_types"
   ]
  },
  {
   "cell_type": "code",
   "execution_count": 19,
   "metadata": {},
   "outputs": [],
   "source": [
    "def getSyntaxAttentionScore(model, data, tokenizer, syntaxList, model_type='finetuned'):\n",
    "    block_size = 400\n",
    "    all_instances = []\n",
    "    number = 0\n",
    "    data = data[:200]\n",
    "    for code_sample in tqdm(data):\n",
    "        Instantce_Result = {}\n",
    "        for syntaxType in syntaxList:\n",
    "            Instantce_Result[syntaxType+model_type] = []\n",
    "\n",
    "        types_1, rewrote_code_1 = get_syntax_types_for_code(code_sample[3])\n",
    "        types_2, rewrote_code_2 = get_syntax_types_for_code(code_sample[4])\n",
    "        \n",
    "        tokenized_ids_1 = tokenizer.convert_tokens_to_ids(tokenizer.tokenize(rewrote_code_1))\n",
    "        tokenized_ids_2 = tokenizer.convert_tokens_to_ids(tokenizer.tokenize(rewrote_code_2))\n",
    "\n",
    "        if len(tokenized_ids_2) > 400:\n",
    "            tokenized_ids_2 = tokenized_ids_2[:399] + [tokenizer.sep_token_id]\n",
    "\n",
    "        if len(tokenized_ids_1) > 400:\n",
    "            tokenized_ids_1 = tokenized_ids_1[:399] + [tokenizer.sep_token_id]\n",
    "        \n",
    "        padding_length = block_size - len(tokenized_ids_1)\n",
    "        tokenized_ids_1+=[tokenizer.pad_token_id]*padding_length\n",
    "        padding_length = block_size - len(tokenized_ids_2)\n",
    "        tokenized_ids_2+=[tokenizer.pad_token_id]*padding_length\n",
    "\n",
    "        source_ids = tokenized_ids_1 + tokenized_ids_2\n",
    "        labels = code_sample[2]\n",
    "        source_ids = torch.tensor(source_ids).unsqueeze(0).to(device)\n",
    "        labels = torch.tensor(labels).unsqueeze(0).to(device)\n",
    "\n",
    "        with torch.no_grad():\n",
    "            output = model(block_size,source_ids,labels)\n",
    "\n",
    "        _attention = output[2].attentions\n",
    "        start_end = get_start_end_of_token_when_tokenized(rewrote_code_1, types_1, tokenizer)\n",
    "        \n",
    "        for syntaxType in syntaxList:\n",
    "            attention_weights = [[[] for col in range(12)] for row in range(12)]\n",
    "            for layer in range(12):\n",
    "                for head in range(12):\n",
    "                    for each_sep_index in np.where(types_1==syntaxType)[0]:\n",
    "                        start_index, end_index = start_end[each_sep_index]\n",
    "                        interim_value = _attention[layer][0][head][:, start_index:end_index+1].mean().cpu().detach().numpy()\n",
    "                        if np.isnan(interim_value):\n",
    "                            pass\n",
    "                        else: \n",
    "                            attention_weights[layer][head].append(interim_value)     \n",
    "            if np.array(attention_weights).shape[2] != 0:\n",
    "                Instantce_Result[syntaxType+model_type].append(np.array(attention_weights))\n",
    "                            \n",
    "        all_instances.append(Instantce_Result)\n",
    "        \n",
    "    return all_instances"
   ]
  },
  {
   "cell_type": "code",
   "execution_count": 20,
   "metadata": {},
   "outputs": [],
   "source": [
    "syntax_list = ['annotation', 'basictype', 'boolean', \n",
    "          'decimalinteger', 'identifier', 'keyword',\n",
    "          'modifier', 'operator', 'separator', 'null',\n",
    "          'string', 'decimalfloatingpoint']"
   ]
  },
  {
   "cell_type": "code",
   "execution_count": 21,
   "metadata": {},
   "outputs": [
    {
     "name": "stderr",
     "output_type": "stream",
     "text": [
      " 80%|████████  | 161/200 [2:11:31<31:51, 49.01s/it]   \n"
     ]
    },
    {
     "ename": "KeyboardInterrupt",
     "evalue": "",
     "output_type": "error",
     "traceback": [
      "\u001b[0;31m---------------------------------------------------------------------------\u001b[0m",
      "\u001b[0;31mKeyboardInterrupt\u001b[0m                         Traceback (most recent call last)",
      "\u001b[1;32m/home/fjiriges/CodeXGLUE/Code-Code/Clone-detection-BigCloneBench/code/attention_analysis.ipynb Cell 16\u001b[0m in \u001b[0;36m<cell line: 1>\u001b[0;34m()\u001b[0m\n\u001b[0;32m----> <a href='vscode-notebook-cell://ssh-remote%2Bpyxis.ics.uci.edu/home/fjiriges/CodeXGLUE/Code-Code/Clone-detection-BigCloneBench/code/attention_analysis.ipynb#X61sdnNjb2RlLXJlbW90ZQ%3D%3D?line=0'>1</a>\u001b[0m syntax_attention_weights \u001b[39m=\u001b[39m getSyntaxAttentionScore(model, data, tokenizer, syntax_list, model_type\u001b[39m=\u001b[39;49m\u001b[39m'\u001b[39;49m\u001b[39mfinetuned\u001b[39;49m\u001b[39m'\u001b[39;49m)\n",
      "\u001b[1;32m/home/fjiriges/CodeXGLUE/Code-Code/Clone-detection-BigCloneBench/code/attention_analysis.ipynb Cell 16\u001b[0m in \u001b[0;36mgetSyntaxAttentionScore\u001b[0;34m(model, data, tokenizer, syntaxList, model_type)\u001b[0m\n\u001b[1;32m     <a href='vscode-notebook-cell://ssh-remote%2Bpyxis.ics.uci.edu/home/fjiriges/CodeXGLUE/Code-Code/Clone-detection-BigCloneBench/code/attention_analysis.ipynb#X61sdnNjb2RlLXJlbW90ZQ%3D%3D?line=42'>43</a>\u001b[0m \u001b[39mfor\u001b[39;00m each_sep_index \u001b[39min\u001b[39;00m np\u001b[39m.\u001b[39mwhere(types_1\u001b[39m==\u001b[39msyntaxType)[\u001b[39m0\u001b[39m]:\n\u001b[1;32m     <a href='vscode-notebook-cell://ssh-remote%2Bpyxis.ics.uci.edu/home/fjiriges/CodeXGLUE/Code-Code/Clone-detection-BigCloneBench/code/attention_analysis.ipynb#X61sdnNjb2RlLXJlbW90ZQ%3D%3D?line=43'>44</a>\u001b[0m     start_index, end_index \u001b[39m=\u001b[39m start_end[each_sep_index]\n\u001b[0;32m---> <a href='vscode-notebook-cell://ssh-remote%2Bpyxis.ics.uci.edu/home/fjiriges/CodeXGLUE/Code-Code/Clone-detection-BigCloneBench/code/attention_analysis.ipynb#X61sdnNjb2RlLXJlbW90ZQ%3D%3D?line=44'>45</a>\u001b[0m     interim_value \u001b[39m=\u001b[39m _attention[layer][\u001b[39m0\u001b[39;49m][head][:, start_index:end_index\u001b[39m+\u001b[39;49m\u001b[39m1\u001b[39;49m]\u001b[39m.\u001b[39;49mmean()\u001b[39m.\u001b[39;49mcpu()\u001b[39m.\u001b[39mdetach()\u001b[39m.\u001b[39mnumpy()\n\u001b[1;32m     <a href='vscode-notebook-cell://ssh-remote%2Bpyxis.ics.uci.edu/home/fjiriges/CodeXGLUE/Code-Code/Clone-detection-BigCloneBench/code/attention_analysis.ipynb#X61sdnNjb2RlLXJlbW90ZQ%3D%3D?line=45'>46</a>\u001b[0m     \u001b[39mif\u001b[39;00m np\u001b[39m.\u001b[39misnan(interim_value):\n\u001b[1;32m     <a href='vscode-notebook-cell://ssh-remote%2Bpyxis.ics.uci.edu/home/fjiriges/CodeXGLUE/Code-Code/Clone-detection-BigCloneBench/code/attention_analysis.ipynb#X61sdnNjb2RlLXJlbW90ZQ%3D%3D?line=46'>47</a>\u001b[0m         \u001b[39mpass\u001b[39;00m\n",
      "\u001b[0;31mKeyboardInterrupt\u001b[0m: "
     ]
    }
   ],
   "source": [
    "syntax_attention_weights = getSyntaxAttentionScore(model, data, tokenizer, syntax_list, model_type='finetuned')"
   ]
  },
  {
   "cell_type": "code",
   "execution_count": 111,
   "metadata": {},
   "outputs": [
    {
     "data": {
      "text/plain": [
       "dict_keys(['annotation', 'basictype', 'boolean', 'decimalinteger', 'identifier', 'keyword', 'modifier', 'operator', 'separator', 'null', 'string', 'decimalfloatingpoint'])"
      ]
     },
     "execution_count": 111,
     "metadata": {},
     "output_type": "execute_result"
    }
   ],
   "source": [
    "syntax_attention_weights[2].keys()"
   ]
  },
  {
   "cell_type": "code",
   "execution_count": 116,
   "metadata": {},
   "outputs": [],
   "source": [
    "avg_attns = {}\n",
    "for syntaxType in syntax_list:\n",
    "    temp = []\n",
    "    for instance in syntax_attention_weights:\n",
    "        a = np.array(instance[syntaxType])\n",
    "        if a.shape[0] != 0:\n",
    "            a = a.squeeze(0)\n",
    "            a = a.mean(axis=2)\n",
    "            temp.append(a)\n",
    "    if len(temp) != 0:\n",
    "        temp = np.array(temp)\n",
    "        temp = temp.reshape(temp.shape[1], temp.shape[2], temp.shape[0])\n",
    "        avg_temp = temp.mean(axis=2)\n",
    "        avg_attns[syntaxType] = avg_temp"
   ]
  },
  {
   "cell_type": "code",
   "execution_count": 118,
   "metadata": {},
   "outputs": [
    {
     "data": {
      "text/plain": [
       "dict_keys(['basictype', 'boolean', 'decimalinteger', 'identifier', 'keyword', 'modifier', 'operator', 'separator', 'null', 'string'])"
      ]
     },
     "execution_count": 118,
     "metadata": {},
     "output_type": "execute_result"
    }
   ],
   "source": [
    "avg_attns.keys()"
   ]
  },
  {
   "cell_type": "code",
   "execution_count": 121,
   "metadata": {},
   "outputs": [
    {
     "data": {
      "image/png": "[encoded data removed]",
      "text/plain": [
       "<Figure size 1200x2100 with 1 Axes>"
      ]
     },
     "metadata": {},
     "output_type": "display_data"
    }
   ],
   "source": [
    "def get_data_points(head_data):\n",
    "  xs, ys, avgs = [], [], []\n",
    "  for layer in range(12):\n",
    "    for head in range(12):\n",
    "      ys.append(head_data[layer][head])\n",
    "      xs.append(1 + layer)\n",
    "    avgs.append(head_data[layer].mean())\n",
    "  return xs, ys, avgs\n",
    "\n",
    "def add_line(key, ax, color, label, plot_avgs=True):\n",
    "  xs, ys, avgs = get_data_points(avg_attns[key])\n",
    "  ax.scatter(xs, ys, s=12, label=label, color=color)\n",
    "  if plot_avgs:\n",
    "    ax.plot(1 + np.arange(len(avgs)), avgs, color=color)\n",
    "  ax.legend(loc=\"best\")\n",
    "  ax.set_xlabel(\"Layer\")\n",
    "  ax.set_ylabel(\"Avg. Attention\")\n",
    "  \n",
    "\n",
    "plt.figure(figsize=(12, 21))\n",
    "ax = plt.subplot(4, 1, 1)\n",
    "for key, color, label in [(\"identifier\", GREEN, \"IDF\"),(\"separator\", RED, \"SEPS\"), (\"keyword\", BLUE, \"KEYS\"), (\"operator\", ORANGE, \"OPRS\"), (\"modifier\", PURPLE, \"MODS\"), (\"basictype\", YELLOW, \"BTS\"), (\"null\", GRAY, \"NULL\"), (\"string\", BROWN, \"STRS\"), (\"decimalinteger\", CYAN, \"DINT\")]:\n",
    "  add_line(key, ax, color, label, plot_avgs=True)"
   ]
  },
  {
   "cell_type": "code",
   "execution_count": 2,
   "metadata": {},
   "outputs": [],
   "source": [
    "import pickle "
   ]
  },
  {
   "cell_type": "code",
   "execution_count": 5,
   "metadata": {},
   "outputs": [],
   "source": [
    "# load pickle file\n",
    "a = pickle.load(open(\"/home/fjiriges/CodeXGLUE/Code-Code/Clone-detection-BigCloneBench/code/syntax_attention_weights_finetuned.pkl\", \"rb\"))"
   ]
  },
  {
   "cell_type": "code",
   "execution_count": 6,
   "metadata": {},
   "outputs": [
    {
     "data": {
      "text/plain": [
       "200"
      ]
     },
     "execution_count": 6,
     "metadata": {},
     "output_type": "execute_result"
    }
   ],
   "source": [
    "len(a)"
   ]
  },
  {
   "cell_type": "code",
   "execution_count": 7,
   "metadata": {},
   "outputs": [],
   "source": [
    "syntax_list = ['annotation', 'basictype', 'boolean', \n",
    "          'decimalinteger', 'identifier', 'keyword',\n",
    "          'modifier', 'operator', 'separator', 'null',\n",
    "          'string', 'decimalfloatingpoint']"
   ]
  },
  {
   "cell_type": "code",
   "execution_count": null,
   "metadata": {},
   "outputs": [],
   "source": []
  }
 ],
 "metadata": {
  "kernelspec": {
   "display_name": "Python 3.8.13 ('cuBERT')",
   "language": "python",
   "name": "python3"
  },
  "language_info": {
   "codemirror_mode": {
    "name": "ipython",
    "version": 3
   },
   "file_extension": ".py",
   "mimetype": "text/x-python",
   "name": "python",
   "nbconvert_exporter": "python",
   "pygments_lexer": "ipython3",
   "version": "3.8.13 (default, Mar 28 2022, 11:38:47) \n[GCC 7.5.0]"
  },
  "orig_nbformat": 4,
  "vscode": {
   "interpreter": {
    "hash": "8492d8711f92acbd6f1f5de70669e0e0dfa9ae8288673c2cd77f66771fab39c9"
   }
  }
 },
 "nbformat": 4,
 "nbformat_minor": 2
}
