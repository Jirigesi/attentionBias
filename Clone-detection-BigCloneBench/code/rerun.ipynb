{
 "cells": [
  {
   "cell_type": "code",
   "execution_count": 1,
   "metadata": {},
   "outputs": [],
   "source": [
    "import torch\n",
    "from torch.utils.data import DataLoader, Dataset, SequentialSampler, RandomSampler,TensorDataset\n",
    "from transformers import  RobertaConfig, RobertaModel, RobertaTokenizer\n",
    "import argparse\n",
    "import json\n",
    "import os\n",
    "from model2 import Model\n",
    "from torch.utils.data import DataLoader, Dataset, SequentialSampler, RandomSampler,TensorDataset\n",
    "import random\n",
    "import multiprocessing\n",
    "from tqdm import tqdm, trange\n",
    "import numpy as np"
   ]
  },
  {
   "cell_type": "code",
   "execution_count": 6,
   "metadata": {},
   "outputs": [],
   "source": [
    "device = torch.device(\"cuda\" if torch.cuda.is_available() else \"cpu\")\n",
    "\n",
    "MODEL_CLASSES = {'roberta': (RobertaConfig, RobertaModel, RobertaTokenizer)}\n",
    "\n",
    "config_class, model_class, tokenizer_class = MODEL_CLASSES['roberta']\n",
    "\n",
    "config = config_class.from_pretrained('microsoft/codebert-base')\n",
    "\n",
    "tokenizer = tokenizer_class.from_pretrained('roberta-base')\n",
    "\n",
    "model = model_class.from_pretrained('microsoft/codebert-base',\n",
    "                                    config=config)\n",
    "model=Model(model,config,tokenizer)\n",
    "\n",
    "checkpoint_prefix = \"/home/fjiriges/attention_bias/attentionBias/Clone-detection-BigCloneBench/code/saved_models/checkpoint-best-f1/model.bin\"\n",
    "\n",
    "model.load_state_dict(torch.load(checkpoint_prefix))\n",
    "\n",
    "model = model.to(device)"
   ]
  },
  {
   "cell_type": "code",
   "execution_count": 7,
   "metadata": {},
   "outputs": [],
   "source": [
    "class TextDataset(Dataset):\n",
    "    def __init__(self, tokenizer, file_path='train', block_size=512,pool=None):\n",
    "        postfix=file_path.split('/')[-1].split('.txt')[0]\n",
    "        self.examples = []\n",
    "        index_filename=file_path\n",
    "        print(\"Creating features from index file at %s \", index_filename)\n",
    "        url_to_code={}\n",
    "        with open('/'.join(index_filename.split('/')[:-1])+'/data.jsonl') as f:\n",
    "            for line in f:\n",
    "                line=line.strip()\n",
    "                js=json.loads(line)\n",
    "                url_to_code[js['idx']]=js['func']\n",
    "        data=[]\n",
    "        cache={}\n",
    "        f=open(index_filename)\n",
    "        with open(index_filename) as f:\n",
    "            for line in f:\n",
    "                line=line.strip()\n",
    "                url1,url2,label=line.split('\\t')\n",
    "                if url1 not in url_to_code or url2 not in url_to_code:\n",
    "                    continue\n",
    "                if label=='0':\n",
    "                    label=0\n",
    "                else:\n",
    "                    label=1\n",
    "                data.append((url1,url2,label,tokenizer,cache,url_to_code))\n",
    "        if 'test' not in postfix:\n",
    "            data=random.sample(data,int(len(data)*0.1))\n",
    "\n",
    "        self.examples=pool.map(get_example,tqdm(data,total=len(data)))\n",
    "    def __len__(self):\n",
    "        return len(self.examples)\n",
    "\n",
    "    def __getitem__(self, item):\n",
    "        return torch.tensor(self.examples[item].input_ids),torch.tensor(self.examples[item].label)\n"
   ]
  },
  {
   "cell_type": "code",
   "execution_count": 8,
   "metadata": {},
   "outputs": [],
   "source": [
    "def load_and_cache_examples(tokenizer, \n",
    "                            test_data_file, \n",
    "                            block_size, \n",
    "                            evaluate=False,\n",
    "                            test=False,\n",
    "                            pool=None):\n",
    "    dataset = TextDataset(tokenizer, file_path=test_data_file,block_size=block_size,pool=pool)\n",
    "    return dataset"
   ]
  },
  {
   "cell_type": "code",
   "execution_count": 9,
   "metadata": {},
   "outputs": [],
   "source": [
    "def get_example(item):\n",
    "    url1,url2,label,tokenizer,cache,url_to_code=item\n",
    "    if url1 in cache:\n",
    "        code1=cache[url1].copy()\n",
    "    else:\n",
    "        try:\n",
    "            code=' '.join(url_to_code[url1].split())\n",
    "        except:\n",
    "            code=\"\"\n",
    "        code1=tokenizer.tokenize(code)\n",
    "    if url2 in cache:\n",
    "        code2=cache[url2].copy()\n",
    "    else:\n",
    "        try:\n",
    "            code=' '.join(url_to_code[url2].split())\n",
    "        except:\n",
    "            code=\"\"\n",
    "        code2=tokenizer.tokenize(code)\n",
    "        \n",
    "    return convert_examples_to_features(code1,code2,label,url1,url2,tokenizer,block_size, cache)"
   ]
  },
  {
   "cell_type": "code",
   "execution_count": 10,
   "metadata": {},
   "outputs": [],
   "source": [
    "def convert_examples_to_features(code1_tokens,code2_tokens,label,url1,url2,tokenizer,block_size,cache):\n",
    "    code1_tokens=code1_tokens[:block_size-2]\n",
    "    code1_tokens =[tokenizer.cls_token]+code1_tokens+[tokenizer.sep_token]\n",
    "    code2_tokens=code2_tokens[:block_size-2]\n",
    "    code2_tokens =[tokenizer.cls_token]+code2_tokens+[tokenizer.sep_token]  \n",
    "    \n",
    "    code1_ids=tokenizer.convert_tokens_to_ids(code1_tokens)\n",
    "    padding_length = block_size - len(code1_ids)\n",
    "    code1_ids+=[tokenizer.pad_token_id]*padding_length\n",
    "    \n",
    "    code2_ids=tokenizer.convert_tokens_to_ids(code2_tokens)\n",
    "    padding_length = block_size - len(code2_ids)\n",
    "    code2_ids+=[tokenizer.pad_token_id]*padding_length\n",
    "    \n",
    "    source_tokens=code1_tokens+code2_tokens\n",
    "    source_ids=code1_ids+code2_ids\n",
    "    return InputFeatures(source_tokens,source_ids,label,url1,url2)"
   ]
  },
  {
   "cell_type": "code",
   "execution_count": 11,
   "metadata": {},
   "outputs": [],
   "source": [
    "class InputFeatures(object):\n",
    "    \"\"\"A single training/test features for a example.\"\"\"\n",
    "    def __init__(self,\n",
    "                 input_tokens,\n",
    "                 input_ids,\n",
    "                 label,\n",
    "                 url1,\n",
    "                 url2):\n",
    "        self.input_tokens = input_tokens\n",
    "        self.input_ids = input_ids\n",
    "        self.label=label\n",
    "        self.url1=url1\n",
    "        self.url2=url2"
   ]
  },
  {
   "cell_type": "code",
   "execution_count": 12,
   "metadata": {},
   "outputs": [
    {
     "name": "stdout",
     "output_type": "stream",
     "text": [
      "Creating features from index file at %s  ../dataset/test.txt\n"
     ]
    },
    {
     "name": "stderr",
     "output_type": "stream",
     "text": [
      "100%|██████████| 415416/415416 [01:10<00:00, 5928.64it/s] \n"
     ]
    }
   ],
   "source": [
    "test_data_file = \"../dataset/test.txt\"\n",
    "block_size = 400\n",
    "cpu_cont = 16\n",
    "pool = multiprocessing.Pool(cpu_cont)\n",
    "eval_dataset = load_and_cache_examples(tokenizer,\n",
    "                                       test_data_file,\n",
    "                                       block_size,\n",
    "                                       evaluate=True,pool=pool)\n"
   ]
  },
  {
   "cell_type": "code",
   "execution_count": 13,
   "metadata": {},
   "outputs": [],
   "source": [
    "eval_sampler = SequentialSampler(eval_dataset)"
   ]
  },
  {
   "cell_type": "code",
   "execution_count": 14,
   "metadata": {},
   "outputs": [],
   "source": [
    "eval_batch_size=32\n",
    "eval_dataloader = DataLoader(eval_dataset, sampler=eval_sampler, batch_size=eval_batch_size,num_workers=4,pin_memory=True)\n"
   ]
  },
  {
   "cell_type": "code",
   "execution_count": 16,
   "metadata": {},
   "outputs": [
    {
     "ename": "KeyboardInterrupt",
     "evalue": "",
     "output_type": "error",
     "traceback": [
      "\u001b[0;31m---------------------------------------------------------------------------\u001b[0m",
      "\u001b[0;31mKeyboardInterrupt\u001b[0m                         Traceback (most recent call last)",
      "\u001b[1;32m/home/fjiriges/attention_bias/attentionBias/Clone-detection-BigCloneBench/code/rerun.ipynb Cell 11\u001b[0m in \u001b[0;36m<cell line: 7>\u001b[0;34m()\u001b[0m\n\u001b[1;32m     <a href='vscode-notebook-cell://ssh-remote%2Bpyxis.ics.uci.edu/home/fjiriges/attention_bias/attentionBias/Clone-detection-BigCloneBench/code/rerun.ipynb#X13sdnNjb2RlLXJlbW90ZQ%3D%3D?line=9'>10</a>\u001b[0m \u001b[39mwith\u001b[39;00m torch\u001b[39m.\u001b[39mno_grad():\n\u001b[1;32m     <a href='vscode-notebook-cell://ssh-remote%2Bpyxis.ics.uci.edu/home/fjiriges/attention_bias/attentionBias/Clone-detection-BigCloneBench/code/rerun.ipynb#X13sdnNjb2RlLXJlbW90ZQ%3D%3D?line=10'>11</a>\u001b[0m     lm_loss,logit, a \u001b[39m=\u001b[39m model(block_size,inputs,labels)\n\u001b[0;32m---> <a href='vscode-notebook-cell://ssh-remote%2Bpyxis.ics.uci.edu/home/fjiriges/attention_bias/attentionBias/Clone-detection-BigCloneBench/code/rerun.ipynb#X13sdnNjb2RlLXJlbW90ZQ%3D%3D?line=11'>12</a>\u001b[0m     eval_loss \u001b[39m+\u001b[39m\u001b[39m=\u001b[39m lm_loss\u001b[39m.\u001b[39;49mmean()\u001b[39m.\u001b[39;49mitem()\n\u001b[1;32m     <a href='vscode-notebook-cell://ssh-remote%2Bpyxis.ics.uci.edu/home/fjiriges/attention_bias/attentionBias/Clone-detection-BigCloneBench/code/rerun.ipynb#X13sdnNjb2RlLXJlbW90ZQ%3D%3D?line=12'>13</a>\u001b[0m     logits\u001b[39m.\u001b[39mappend(logit\u001b[39m.\u001b[39mcpu()\u001b[39m.\u001b[39mnumpy())\n\u001b[1;32m     <a href='vscode-notebook-cell://ssh-remote%2Bpyxis.ics.uci.edu/home/fjiriges/attention_bias/attentionBias/Clone-detection-BigCloneBench/code/rerun.ipynb#X13sdnNjb2RlLXJlbW90ZQ%3D%3D?line=13'>14</a>\u001b[0m     y_trues\u001b[39m.\u001b[39mappend(labels\u001b[39m.\u001b[39mcpu()\u001b[39m.\u001b[39mnumpy())\n",
      "\u001b[0;31mKeyboardInterrupt\u001b[0m: "
     ]
    }
   ],
   "source": [
    "eval_loss = 0.0\n",
    "nb_eval_steps = 0\n",
    "model.eval()\n",
    "logits=[]  \n",
    "y_trues=[]\n",
    "\n",
    "for batch in eval_dataloader:\n",
    "    inputs = batch[0].to(device)        \n",
    "    labels=batch[1].to(device) \n",
    "    with torch.no_grad():\n",
    "        lm_loss,logit, a = model(block_size,inputs,labels)\n",
    "        eval_loss += lm_loss.mean().item()\n",
    "        logits.append(logit.cpu().numpy())\n",
    "        y_trues.append(labels.cpu().numpy())\n",
    "    nb_eval_steps += 1\n",
    "logits=np.concatenate(logits,0)\n",
    "y_trues=np.concatenate(y_trues,0)"
   ]
  },
  {
   "cell_type": "code",
   "execution_count": null,
   "metadata": {},
   "outputs": [],
   "source": [
    "best_threshold=0\n",
    "best_f1=0\n",
    "for i in range(1,100):\n",
    "    threshold=i/100\n",
    "    y_preds=logits[:,1]>threshold\n",
    "    from sklearn.metrics import recall_score\n",
    "    recall=recall_score(y_trues, y_preds)\n",
    "    from sklearn.metrics import precision_score\n",
    "    precision=precision_score(y_trues, y_preds)   \n",
    "    from sklearn.metrics import f1_score\n",
    "    f1=f1_score(y_trues, y_preds) \n",
    "    if f1>best_f1:\n",
    "        best_f1=f1\n",
    "        best_threshold=threshold"
   ]
  },
  {
   "cell_type": "code",
   "execution_count": null,
   "metadata": {},
   "outputs": [],
   "source": [
    "y_preds=logits[:,1]>best_threshold\n",
    "from sklearn.metrics import recall_score\n",
    "recall=recall_score(y_trues, y_preds)\n",
    "from sklearn.metrics import precision_score\n",
    "precision=precision_score(y_trues, y_preds)   \n",
    "from sklearn.metrics import f1_score\n",
    "f1=f1_score(y_trues, y_preds)             \n",
    "result = {\n",
    "    \"eval_recall\": float(recall),\n",
    "    \"eval_precision\": float(precision),\n",
    "    \"eval_f1\": float(f1),\n",
    "    \"eval_threshold\":best_threshold,\n",
    "    \n",
    "}"
   ]
  },
  {
   "cell_type": "code",
   "execution_count": 28,
   "metadata": {},
   "outputs": [
    {
     "name": "stdout",
     "output_type": "stream",
     "text": [
      "{'eval_recall': 0.9437080079898311, 'eval_precision': 0.9414855072463768, 'eval_f1': 0.9425954475378615, 'eval_threshold': 0.98}\n"
     ]
    }
   ],
   "source": [
    "print(result)"
   ]
  },
  {
   "cell_type": "code",
   "execution_count": null,
   "metadata": {},
   "outputs": [],
   "source": []
  }
 ],
 "metadata": {
  "kernelspec": {
   "display_name": "Python 3.8.13 ('cuBERT')",
   "language": "python",
   "name": "python3"
  },
  "language_info": {
   "codemirror_mode": {
    "name": "ipython",
    "version": 3
   },
   "file_extension": ".py",
   "mimetype": "text/x-python",
   "name": "python",
   "nbconvert_exporter": "python",
   "pygments_lexer": "ipython3",
   "version": "3.8.13"
  },
  "orig_nbformat": 4,
  "vscode": {
   "interpreter": {
    "hash": "8492d8711f92acbd6f1f5de70669e0e0dfa9ae8288673c2cd77f66771fab39c9"
   }
  }
 },
 "nbformat": 4,
 "nbformat_minor": 2
}
