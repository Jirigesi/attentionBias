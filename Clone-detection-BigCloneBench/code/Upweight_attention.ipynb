{
 "cells": [
  {
   "cell_type": "code",
   "execution_count": 16,
   "metadata": {},
   "outputs": [],
   "source": [
    "import torch\n",
    "from torch.utils.data import DataLoader, Dataset, SequentialSampler, RandomSampler,TensorDataset\n",
    "from transformers import  RobertaConfig, RobertaModel, RobertaTokenizer\n",
    "import argparse\n",
    "import json\n",
    "import os\n",
    "from model2 import Model\n",
    "from torch.utils.data import DataLoader, Dataset, SequentialSampler, RandomSampler,TensorDataset\n",
    "import random\n",
    "import multiprocessing\n",
    "from tqdm import tqdm, trange\n",
    "import numpy as np\n",
    "import javalang\n",
    "import pandas as pd\n",
    "import matplotlib.pyplot as plt\n",
    "import matplotlib.ticker as ticker\n",
    "np.random.seed(0)\n",
    "import seaborn as sns\n",
    "import collections\n",
    "import pickle\n",
    "import sklearn\n",
    "from matplotlib import cm\n",
    "from sklearn import manifold"
   ]
  },
  {
   "cell_type": "code",
   "execution_count": 3,
   "metadata": {},
   "outputs": [],
   "source": [
    "device = torch.device(\"cuda\" if torch.cuda.is_available() else \"cpu\")\n",
    "\n",
    "MODEL_CLASSES = {'roberta': (RobertaConfig, RobertaModel, RobertaTokenizer)}\n",
    "\n",
    "config_class, model_class, tokenizer_class = MODEL_CLASSES['roberta']\n",
    "\n",
    "config = config_class.from_pretrained('microsoft/codebert-base')\n",
    "\n",
    "tokenizer = tokenizer_class.from_pretrained('roberta-base')\n",
    "\n",
    "model = model_class.from_pretrained('microsoft/codebert-base',\n",
    "                                    config=config)\n",
    "model=Model(model,config,tokenizer)\n",
    "\n",
    "checkpoint_prefix = \"/home/fjiriges/attention_bias/attentionBias/Clone-detection-BigCloneBench/code/saved_models/checkpoint-best-f1/model.bin\"\n",
    "\n",
    "model.load_state_dict(torch.load(checkpoint_prefix))\n",
    "\n",
    "model = model.to(device)"
   ]
  },
  {
   "cell_type": "code",
   "execution_count": 4,
   "metadata": {},
   "outputs": [],
   "source": [
    "class TextDataset(Dataset):\n",
    "    def __init__(self, tokenizer, file_path='train', block_size=512,pool=None):\n",
    "        postfix=file_path.split('/')[-1].split('.txt')[0]\n",
    "        self.examples = []\n",
    "        index_filename=file_path\n",
    "        print(\"Creating features from index file at %s \", index_filename)\n",
    "        url_to_code={}\n",
    "        with open('/'.join(index_filename.split('/')[:-1])+'/data.jsonl') as f:\n",
    "            for line in f:\n",
    "                line=line.strip()\n",
    "                js=json.loads(line)\n",
    "                url_to_code[js['idx']]=js['func']\n",
    "        data=[]\n",
    "        cache={}\n",
    "        f=open(index_filename)\n",
    "        with open(index_filename) as f:\n",
    "            for line in f:\n",
    "                line=line.strip()\n",
    "                url1,url2,label=line.split('\\t')\n",
    "                if url1 not in url_to_code or url2 not in url_to_code:\n",
    "                    continue\n",
    "                if label=='0':\n",
    "                    label=0\n",
    "                else:\n",
    "                    label=1\n",
    "                data.append((url1,url2,label,tokenizer,cache,url_to_code))\n",
    "        if 'test' not in postfix:\n",
    "            data=random.sample(data,int(len(data)*0.1))\n",
    "\n",
    "        self.examples=pool.map(get_example,tqdm(data,total=len(data)))\n",
    "    def __len__(self):\n",
    "        return len(self.examples)\n",
    "\n",
    "    def __getitem__(self, item):\n",
    "        return torch.tensor(self.examples[item].input_ids),torch.tensor(self.examples[item].label)\n"
   ]
  },
  {
   "cell_type": "code",
   "execution_count": 5,
   "metadata": {},
   "outputs": [],
   "source": [
    "def load_and_cache_examples(tokenizer, \n",
    "                            test_data_file, \n",
    "                            block_size, \n",
    "                            evaluate=False,\n",
    "                            test=False,\n",
    "                            pool=None):\n",
    "    dataset = TextDataset(tokenizer, file_path=test_data_file,block_size=block_size,pool=pool)\n",
    "    return dataset"
   ]
  },
  {
   "cell_type": "code",
   "execution_count": 6,
   "metadata": {},
   "outputs": [],
   "source": [
    "def get_example(item):\n",
    "    url1,url2,label,tokenizer,cache,url_to_code=item\n",
    "    if url1 in cache:\n",
    "        code1=cache[url1].copy()\n",
    "    else:\n",
    "        try:\n",
    "            code=' '.join(url_to_code[url1].split())\n",
    "        except:\n",
    "            code=\"\"\n",
    "        code1=tokenizer.tokenize(code)\n",
    "    if url2 in cache:\n",
    "        code2=cache[url2].copy()\n",
    "    else:\n",
    "        try:\n",
    "            code=' '.join(url_to_code[url2].split())\n",
    "        except:\n",
    "            code=\"\"\n",
    "        code2=tokenizer.tokenize(code)\n",
    "        \n",
    "    return convert_examples_to_features(code1,code2,label,url1,url2,tokenizer,block_size, cache)"
   ]
  },
  {
   "cell_type": "code",
   "execution_count": 7,
   "metadata": {},
   "outputs": [],
   "source": [
    "def convert_examples_to_features(code1_tokens,code2_tokens,label,url1,url2,tokenizer,block_size,cache):\n",
    "    code1_tokens=code1_tokens[:block_size-2]\n",
    "    code1_tokens =[tokenizer.cls_token]+code1_tokens+[tokenizer.sep_token]\n",
    "    code2_tokens=code2_tokens[:block_size-2]\n",
    "    code2_tokens =[tokenizer.cls_token]+code2_tokens+[tokenizer.sep_token]  \n",
    "    \n",
    "    code1_ids=tokenizer.convert_tokens_to_ids(code1_tokens)\n",
    "    padding_length = block_size - len(code1_ids)\n",
    "    code1_ids+=[tokenizer.pad_token_id]*padding_length\n",
    "    \n",
    "    code2_ids=tokenizer.convert_tokens_to_ids(code2_tokens)\n",
    "    padding_length = block_size - len(code2_ids)\n",
    "    code2_ids+=[tokenizer.pad_token_id]*padding_length\n",
    "    \n",
    "    source_tokens=code1_tokens+code2_tokens\n",
    "    source_ids=code1_ids+code2_ids\n",
    "    return InputFeatures(source_tokens,source_ids,label,url1,url2)"
   ]
  },
  {
   "cell_type": "code",
   "execution_count": 8,
   "metadata": {},
   "outputs": [],
   "source": [
    "class InputFeatures(object):\n",
    "    \"\"\"A single training/test features for a example.\"\"\"\n",
    "    def __init__(self,\n",
    "                 input_tokens,\n",
    "                 input_ids,\n",
    "                 label,\n",
    "                 url1,\n",
    "                 url2):\n",
    "        self.input_tokens = input_tokens\n",
    "        self.input_ids = input_ids\n",
    "        self.label=label\n",
    "        self.url1=url1\n",
    "        self.url2=url2"
   ]
  },
  {
   "cell_type": "code",
   "execution_count": 9,
   "metadata": {},
   "outputs": [
    {
     "name": "stdout",
     "output_type": "stream",
     "text": [
      "Creating features from index file at %s  ../dataset/valid.txt\n"
     ]
    },
    {
     "name": "stderr",
     "output_type": "stream",
     "text": [
      "100%|██████████| 41541/41541 [00:11<00:00, 3693.05it/s]\n"
     ]
    }
   ],
   "source": [
    "test_data_file = \"../dataset/valid.txt\"\n",
    "block_size = 400\n",
    "cpu_cont = 16\n",
    "pool = multiprocessing.Pool(cpu_cont)\n",
    "eval_dataset = load_and_cache_examples(tokenizer,\n",
    "                                       test_data_file,\n",
    "                                       block_size,\n",
    "                                       evaluate=True,pool=pool)\n"
   ]
  },
  {
   "cell_type": "code",
   "execution_count": 10,
   "metadata": {},
   "outputs": [],
   "source": [
    "eval_sampler = SequentialSampler(eval_dataset)\n",
    "eval_batch_size=32\n",
    "eval_dataloader = DataLoader(eval_dataset, sampler=eval_sampler, batch_size=eval_batch_size,num_workers=4,pin_memory=True)"
   ]
  },
  {
   "cell_type": "code",
   "execution_count": 11,
   "metadata": {},
   "outputs": [],
   "source": [
    "file_path = \"../dataset/valid.txt\"\n",
    "postfix=file_path.split('/')[-1].split('.txt')[0]\n",
    "index_filename=file_path\n",
    "url_to_code={}\n",
    "with open('/'.join(index_filename.split('/')[:-1])+'/data.jsonl') as f:\n",
    "    for line in f:\n",
    "        line=line.strip()\n",
    "        js=json.loads(line)\n",
    "        url_to_code[js['idx']]=js['func']\n",
    "data=[]\n",
    "cache={}\n",
    "f=open(index_filename)\n",
    "with open(index_filename) as f:\n",
    "    # lines = 1000\n",
    "    added_lines = 0\n",
    "    for line in f:\n",
    "        # if added_lines >= lines:\n",
    "        #     break\n",
    "        line=line.strip()\n",
    "        url1,url2,label=line.split('\\t')\n",
    "        if url1 not in url_to_code or url2 not in url_to_code:\n",
    "            continue\n",
    "        if label=='0':\n",
    "            label=0\n",
    "        else:\n",
    "            label=1\n",
    "        data.append((url1,url2,label,' '.join(url_to_code[url1].split()), ' '.join(url_to_code[url2].split())))\n",
    "        added_lines += 1"
   ]
  },
  {
   "cell_type": "code",
   "execution_count": 14,
   "metadata": {},
   "outputs": [],
   "source": [
    "def get_syntax_types_for_code(code_snippet):\n",
    "  types = [\"[CLS]\"]\n",
    "  code = [\"<s>\"]\n",
    "  tree = list(javalang.tokenizer.tokenize(code_snippet))\n",
    "  \n",
    "  for i in tree:\n",
    "    j = str(i)\n",
    "    j = j.split(\" \")\n",
    "    if j[1] == '\"MASK\"':\n",
    "      types.append('[MASK]')\n",
    "      code.append('<mask>')\n",
    "    else:\n",
    "      types.append(j[0].lower())\n",
    "      code.append(j[1][1:-1])\n",
    "    \n",
    "  types.append(\"[SEP]\")\n",
    "  code.append(\"</s>\")\n",
    "  return np.array(types), ' '.join(code)\n",
    "\n",
    "def get_start_end_of_token_when_tokenized(code, types, tokenizer):\n",
    "  reindexed_types = []\n",
    "  start = 0\n",
    "  end = 0\n",
    "  for index, each_token in enumerate(code.split(\" \")):\n",
    "    tokenized_list = tokenizer.tokenize(each_token)\n",
    "    for i in range(len(tokenized_list)):\n",
    "      end += 1\n",
    "    reindexed_types.append((start, end-1))\n",
    "    start = end\n",
    "  return reindexed_types"
   ]
  },
  {
   "cell_type": "code",
   "execution_count": 29,
   "metadata": {},
   "outputs": [],
   "source": [
    "block_size = 400\n",
    "code_sample = data[0]\n",
    "\n",
    "types_1, rewrote_code_1 = get_syntax_types_for_code(code_sample[3])\n",
    "types_2, rewrote_code_2 = get_syntax_types_for_code(code_sample[4])\n",
    "\n",
    "tokenized_ids_1 = tokenizer.convert_tokens_to_ids(tokenizer.tokenize(rewrote_code_1))\n",
    "tokenized_ids_2 = tokenizer.convert_tokens_to_ids(tokenizer.tokenize(rewrote_code_2))\n",
    "\n",
    "if len(tokenized_ids_2) > 400:\n",
    "    tokenized_ids_2 = tokenized_ids_2[:399] + [tokenizer.sep_token_id]\n",
    "\n",
    "if len(tokenized_ids_1) > 400:\n",
    "    tokenized_ids_1 = tokenized_ids_1[:399] + [tokenizer.sep_token_id]\n",
    "\n",
    "padding_length = block_size - len(tokenized_ids_1)\n",
    "tokenized_ids_1+=[tokenizer.pad_token_id]*padding_length\n",
    "padding_length = block_size - len(tokenized_ids_2)\n",
    "tokenized_ids_2+=[tokenizer.pad_token_id]*padding_length\n",
    "\n",
    "source_ids = tokenized_ids_1 + tokenized_ids_2\n",
    "labels = code_sample[2]\n",
    "source_ids = torch.tensor(source_ids).unsqueeze(0).to(device)\n",
    "labels = torch.tensor(labels).unsqueeze(0).to(device)\n",
    "\n",
    "with torch.no_grad():\n",
    "    output = model(block_size,source_ids,labels)\n",
    "\n",
    "_attention = output[2].attentions"
   ]
  },
  {
   "cell_type": "code",
   "execution_count": 34,
   "metadata": {},
   "outputs": [
    {
     "data": {
      "text/plain": [
       "tensor(0.0033, device='cuda:0')"
      ]
     },
     "execution_count": 34,
     "metadata": {},
     "output_type": "execute_result"
    }
   ],
   "source": [
    "output[0]"
   ]
  },
  {
   "cell_type": "code",
   "execution_count": 19,
   "metadata": {},
   "outputs": [
    {
     "data": {
      "text/plain": [
       "tensor(0.0042, device='cuda:0')"
      ]
     },
     "execution_count": 19,
     "metadata": {},
     "output_type": "execute_result"
    }
   ],
   "source": [
    "output[0]"
   ]
  },
  {
   "cell_type": "code",
   "execution_count": 20,
   "metadata": {},
   "outputs": [
    {
     "data": {
      "text/plain": [
       "tensor([[0.9958, 0.0042]], device='cuda:0')"
      ]
     },
     "execution_count": 20,
     "metadata": {},
     "output_type": "execute_result"
    }
   ],
   "source": [
    "output[1]"
   ]
  },
  {
   "cell_type": "code",
   "execution_count": 27,
   "metadata": {},
   "outputs": [
    {
     "data": {
      "text/plain": [
       "odict_keys(['last_hidden_state', 'pooler_output'])"
      ]
     },
     "execution_count": 27,
     "metadata": {},
     "output_type": "execute_result"
    }
   ],
   "source": [
    "output[2].keys()"
   ]
  },
  {
   "cell_type": "code",
   "execution_count": null,
   "metadata": {},
   "outputs": [],
   "source": []
  }
 ],
 "metadata": {
  "kernelspec": {
   "display_name": "cuBERT",
   "language": "python",
   "name": "python3"
  },
  "language_info": {
   "codemirror_mode": {
    "name": "ipython",
    "version": 3
   },
   "file_extension": ".py",
   "mimetype": "text/x-python",
   "name": "python",
   "nbconvert_exporter": "python",
   "pygments_lexer": "ipython3",
   "version": "3.8.13"
  },
  "orig_nbformat": 4,
  "vscode": {
   "interpreter": {
    "hash": "8492d8711f92acbd6f1f5de70669e0e0dfa9ae8288673c2cd77f66771fab39c9"
   }
  }
 },
 "nbformat": 4,
 "nbformat_minor": 2
}
