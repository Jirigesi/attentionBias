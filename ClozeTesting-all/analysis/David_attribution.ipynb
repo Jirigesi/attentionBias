{
 "cells": [
  {
   "cell_type": "code",
   "execution_count": 1,
   "metadata": {},
   "outputs": [],
   "source": [
    "import torch\n",
    "from transformers import RobertaConfig, RobertaForMaskedLM, RobertaTokenizer\n",
    "import argparse\n",
    "import json\n",
    "import os\n",
    "import pandas as pd\n",
    "import numpy as np \n",
    "from tqdm import tqdm\n",
    "from scipy import stats\n",
    "import javalang\n",
    "from captum.attr import LayerIntegratedGradients, TokenReferenceBase, visualization\n",
    "from captum.attr import IntegratedGradients, LayerConductance, LayerIntegratedGradients, LayerActivation\n",
    "from captum.attr import configure_interpretable_embedding_layer, remove_interpretable_embedding_layer\n",
    "import pickle\n",
    "\n",
    "if torch.__version__ >= '1.7.0':\n",
    "    norm_fn = torch.linalg.norm\n",
    "else:\n",
    "    norm_fn = torch.norm"
   ]
  },
  {
   "cell_type": "code",
   "execution_count": 2,
   "metadata": {},
   "outputs": [],
   "source": [
    "def get_cloze_words(filename, tokenizer):\n",
    "    with open(filename, 'r', encoding='utf-8') as fp:\n",
    "        words = fp.read().split('\\n')\n",
    "    idx2word = {tokenizer.encoder[w]: w for w in words}\n",
    "    return idx2word\n",
    "\n",
    "def read_answers(filename):\n",
    "    answers = {}\n",
    "    with open(filename, 'r', encoding='utf-8') as f:\n",
    "        for line in f.readlines():\n",
    "            line = line.strip()\n",
    "            answers[line.split('<CODESPLIT>')[0]] = line.split('<CODESPLIT>')[1]\n",
    "    return answers\n",
    "\n",
    "def summarize_attributions(attributions):\n",
    "    attributions = attributions.sum(dim=-1).squeeze(0)\n",
    "    attributions = attributions / norm_fn(attributions)\n",
    "    return attributions\n",
    "\n",
    "def construct_whole_bert_embeddings(input_ids, ref_input_ids):\n",
    "    input_embeddings = interpretable_embedding.indices_to_embeddings(input_ids)\n",
    "    ref_input_embeddings = interpretable_embedding.indices_to_embeddings(ref_input_ids)\n",
    "    \n",
    "    return input_embeddings, ref_input_embeddings"
   ]
  },
  {
   "cell_type": "code",
   "execution_count": 3,
   "metadata": {},
   "outputs": [],
   "source": [
    "def predict_forward_func(input_embeddings, tokenized_text):\n",
    "    output = model(inputs_embeds=input_embeddings)\n",
    "    if tokenizer.mask_token_id not in tokenized_text:\n",
    "        print(\"Mask token not in tokenized text\")\n",
    "    index = tokenized_text.index(tokenizer.mask_token_id)\n",
    "    # print(\"[MASK] Index: {}, length of tokenized text is {}\".format(index, len(tokenized_text)))\n",
    "    if index > output.logits.shape[1]:\n",
    "        print(\"Length of output is {} and index is {}\".format(output.logits.shape[1], index))\n",
    "    output_list = output.logits[0][index]\n",
    "    output_list = output_list.unsqueeze(0)\n",
    "    \n",
    "    return output_list.max(1).values"
   ]
  },
  {
   "cell_type": "code",
   "execution_count": 10,
   "metadata": {},
   "outputs": [],
   "source": [
    "def get_CLS_attribution(model, tokenizer, codes):\n",
    "    # layer x head x code\n",
    "    cls_data = [[[] for col in range(12)] for row in range(12)]\n",
    "    with torch.no_grad():\n",
    "        failed = 0\n",
    "        for code in tqdm(codes):\n",
    "            # try:\n",
    "                \n",
    "            tokenized_text = tokenizer.convert_tokens_to_ids(tokenizer.tokenize(code))\n",
    "            input_ids = torch.tensor([tokenized_text]).to(device)\n",
    "            reference_indices = token_reference.generate_reference(input_ids.shape[1], device=device).unsqueeze(0)\n",
    "\n",
    "            layer_attrs = []\n",
    "            layer_attn_mat = []\n",
    "            input_embeddings, ref_input_embeddings = construct_whole_bert_embeddings(input_ids, reference_indices)\n",
    "\n",
    "            for i in range(model.config.num_hidden_layers):\n",
    "                lc = LayerConductance(predict_forward_func, \n",
    "                                    model.roberta.encoder.layer[i])\n",
    "                layer_attributions = lc.attribute(inputs=input_embeddings, \n",
    "                                                        baselines=ref_input_embeddings, \n",
    "                                                        additional_forward_args=(tokenized_text))\n",
    "                layer_attrs.append(summarize_attributions(layer_attributions[0]))\n",
    "                layer_attn_mat.append(layer_attributions[1])\n",
    "            # layer x seq_len\n",
    "            layer_attrs = torch.stack(layer_attrs)\n",
    "            # layer x batch x head x seq_len x seq_len\n",
    "            layer_attn_mat = torch.stack(layer_attn_mat)\n",
    "            for layer in range(12):\n",
    "                for head in range(12):\n",
    "                    cls_data[layer][head].append(layer_attn_mat[layer][0][head][:, 0:1].mean().cpu().detach().numpy())\n",
    "            # except:\n",
    "            #     failed += 1\n",
    "    print(\"Failed: {}\".format(failed))\n",
    "    \n",
    "    return cls_data"
   ]
  },
  {
   "cell_type": "code",
   "execution_count": 5,
   "metadata": {},
   "outputs": [],
   "source": [
    "def get_SEP_attention(model, tokenizer, codes):\n",
    "    sep_data = [[[] for col in range(12)] for row in range(12)]\n",
    "\n",
    "    with torch.no_grad():\n",
    "        failed = 0\n",
    "        try:\n",
    "            for code in tqdm(codes):\n",
    "                tokenized_text = tokenizer.convert_tokens_to_ids(tokenizer.tokenize(code))\n",
    "                input_ids = torch.tensor([tokenized_text]).to(device)\n",
    "                reference_indices = token_reference.generate_reference(input_ids.shape[1], device=device).unsqueeze(0)\n",
    "\n",
    "                layer_attrs = []\n",
    "                layer_attn_mat = []\n",
    "                input_embeddings, ref_input_embeddings = construct_whole_bert_embeddings(input_ids, reference_indices)\n",
    "\n",
    "                for i in range(model.config.num_hidden_layers):\n",
    "                    lc = LayerConductance(predict_forward_func, \n",
    "                                        model.roberta.encoder.layer[i])\n",
    "                    layer_attributions = lc.attribute(inputs=input_embeddings, \n",
    "                                                            baselines=ref_input_embeddings, \n",
    "                                                            additional_forward_args=(tokenized_text))\n",
    "                    layer_attrs.append(summarize_attributions(layer_attributions[0]))\n",
    "                    layer_attn_mat.append(layer_attributions[1])\n",
    "                # layer x seq_len\n",
    "                layer_attrs = torch.stack(layer_attrs)\n",
    "                # layer x batch x head x seq_len x seq_len\n",
    "                layer_attn_mat = torch.stack(layer_attn_mat)\n",
    "                for layer in range(12):\n",
    "                    for head in range(12):\n",
    "                        for each_sep_index in torch.where(input_ids[0]==2)[0].cpu().detach().numpy():\n",
    "                            sep_data[layer][head].append(layer_attn_mat[layer][0][head][:, each_sep_index].mean().cpu().detach().numpy()) \n",
    "        except:\n",
    "            failed += 1\n",
    "    print(\"Failed: {}\".format(failed))\n",
    "    return sep_data"
   ]
  },
  {
   "cell_type": "code",
   "execution_count": 36,
   "metadata": {},
   "outputs": [
    {
     "name": "stdout",
     "output_type": "stream",
     "text": [
      "Runing on device: cuda:0\n",
      "Total number of code instances:  40492\n",
      "Selected number of codes:  1753\n",
      "Selected number of answers:  1753\n"
     ]
    }
   ],
   "source": [
    "device = torch.device(\"cuda:0\" if torch.cuda.is_available() else \"cpu\")\n",
    "print('Runing on device:', device)\n",
    "MODEL_CLASSES = {'roberta': (RobertaConfig, RobertaForMaskedLM, RobertaTokenizer)}\n",
    "\n",
    "config_class, model_class, tokenizer_class = MODEL_CLASSES['roberta']\n",
    "config = config_class.from_pretrained('roberta-base')\n",
    "tokenizer = tokenizer_class.from_pretrained('roberta-base')\n",
    "\n",
    "model = RobertaForMaskedLM.from_pretrained('microsoft/codebert-base-mlm', \n",
    "                                        output_attentions=True, output_hidden_states=True)\n",
    "model.to(device)\n",
    "\n",
    "ref_token_id = tokenizer.pad_token_id # A token used for generating token reference\n",
    "sep_token_id = tokenizer.sep_token_id # A token used as a separator between question and text and it is also added to the end of the text.\n",
    "cls_token_id = tokenizer.cls_token_id # A token used for prepending to the concatenated question-text word sequence\n",
    "\n",
    "token_reference = TokenReferenceBase(reference_token_idx=ref_token_id)\n",
    "\n",
    "cloze_results = []\n",
    "cloze_words_file = '../data/cloze-all/cloze_test_words.txt'\n",
    "file_path = '../data/cloze-all/java/clozeTest.json'\n",
    "\n",
    "idx2word = get_cloze_words(cloze_words_file, tokenizer)\n",
    "\n",
    "lines = json.load(open(file_path))\n",
    "\n",
    "print('Total number of code instances: ', len(lines))\n",
    "\n",
    "answer_file = '../evaluator/answers/java/answers.txt'\n",
    "answers = read_answers(answer_file)\n",
    "answer_list = list(answers.values())\n",
    "\n",
    "bestSampleWithMaxPairLength = []\n",
    "bestSampleWithMaxPairLength_LEN =[]\n",
    "\n",
    "number_of_samples = 2000 # a small set of data for testing\n",
    "for i in range(len(lines[:number_of_samples])):\n",
    "    code = ' '.join(lines[i]['pl_tokens'])\n",
    "    bestStr = \"<s> \" + code + \" </s>\"\n",
    "    bestLen = len(bestStr.split(\" \"))\n",
    "    bestSampleWithMaxPairLength.append(bestStr)\n",
    "    bestSampleWithMaxPairLength_LEN.append(bestLen)\n",
    "    \n",
    "lengths=[]\n",
    "codes=[]\n",
    "selected_answers = []\n",
    "\n",
    "for index, code in enumerate(bestSampleWithMaxPairLength):\n",
    "    l = len(tokenizer.tokenize(code))\n",
    "    if l<=256:\n",
    "        lengths.append(l)\n",
    "        codes.append(code)\n",
    "        selected_answers.append(answer_list[index])\n",
    "        \n",
    "print('Selected number of codes: ', len(codes))\n",
    "print('Selected number of answers: ', len(selected_answers))"
   ]
  },
  {
   "cell_type": "code",
   "execution_count": 37,
   "metadata": {},
   "outputs": [
    {
     "name": "stderr",
     "output_type": "stream",
     "text": [
      "/home/fjiriges/anaconda3/envs/cuBERT/lib/python3.8/site-packages/captum/attr/_models/base.py:188: UserWarning: In order to make embedding layers more interpretable they will be replaced with an interpretable embedding layer which wraps the original embedding layer and takes word embedding vectors as inputs of the forward function. This allows us to generate baselines for word embeddings and compute attributions for each embedding dimension. The original embedding layer must be set back by calling `remove_interpretable_embedding_layer` function after model interpretation is finished. \n",
      "  warnings.warn(\n"
     ]
    }
   ],
   "source": [
    "interpretable_embedding = configure_interpretable_embedding_layer(model, 'roberta.embeddings.word_embeddings')"
   ]
  },
  {
   "cell_type": "code",
   "execution_count": 38,
   "metadata": {},
   "outputs": [
    {
     "name": "stderr",
     "output_type": "stream",
     "text": [
      "100%|██████████| 1753/1753 [53:24<00:00,  1.83s/it] "
     ]
    },
    {
     "name": "stdout",
     "output_type": "stream",
     "text": [
      "Failed: 0\n"
     ]
    },
    {
     "name": "stderr",
     "output_type": "stream",
     "text": [
      "\n"
     ]
    }
   ],
   "source": [
    "CLS_atten_correct = get_CLS_attribution(model, \n",
    "                                        tokenizer, \n",
    "                                        codes)"
   ]
  },
  {
   "cell_type": "code",
   "execution_count": 39,
   "metadata": {},
   "outputs": [
    {
     "data": {
      "text/plain": [
       "(12, 12, 1753)"
      ]
     },
     "execution_count": 39,
     "metadata": {},
     "output_type": "execute_result"
    }
   ],
   "source": [
    "a = np.array(CLS_atten_correct)\n",
    "a.shape"
   ]
  },
  {
   "cell_type": "code",
   "execution_count": 56,
   "metadata": {},
   "outputs": [],
   "source": [
    "CLS_attri_avg = np.max(a, axis=2)"
   ]
  },
  {
   "cell_type": "code",
   "execution_count": 41,
   "metadata": {},
   "outputs": [
    {
     "name": "stderr",
     "output_type": "stream",
     "text": [
      "100%|██████████| 1753/1753 [54:38<00:00,  1.87s/it] "
     ]
    },
    {
     "name": "stdout",
     "output_type": "stream",
     "text": [
      "Failed: 0\n"
     ]
    },
    {
     "name": "stderr",
     "output_type": "stream",
     "text": [
      "\n"
     ]
    }
   ],
   "source": [
    "SEP_attribution = get_SEP_attention(model, \n",
    "                                        tokenizer, \n",
    "                                        codes)"
   ]
  },
  {
   "cell_type": "code",
   "execution_count": 57,
   "metadata": {},
   "outputs": [],
   "source": [
    "SEP_attri_avg = np.max(np.array(SEP_attribution), axis=2)"
   ]
  },
  {
   "cell_type": "code",
   "execution_count": 43,
   "metadata": {},
   "outputs": [],
   "source": [
    "avg_attns = {}\n",
    "avg_attns = {'cls': CLS_attri_avg, 'sep': SEP_attri_avg}"
   ]
  },
  {
   "cell_type": "code",
   "execution_count": 44,
   "metadata": {},
   "outputs": [],
   "source": [
    "#!pip install filelock more_itertools\n",
    "import pandas as pd\n",
    "import numpy as np \n",
    "#import matplotlib as mpl\n",
    "import matplotlib.pyplot as plt\n",
    "import matplotlib.ticker as ticker\n",
    "import numpy as np\n",
    "np.random.seed(0)\n",
    "import seaborn as sns\n",
    "RED = \"#e74c3c\"\n",
    "import collections\n",
    "import pickle\n",
    "\n",
    "import matplotlib\n",
    "import numpy as np\n",
    "import seaborn as sns\n",
    "import sklearn\n",
    "\n",
    "from matplotlib import pyplot as plt\n",
    "from matplotlib import cm\n",
    "from sklearn import manifold\n",
    "\n",
    "sns.set_style(\"darkgrid\")\n",
    "# Pretty colors\n",
    "BLACK = \"k\"\n",
    "GREEN = \"#59d98e\"\n",
    "SEA = \"#159d82\"\n",
    "BLUE = \"#3498db\"\n",
    "PURPLE = \"#9b59b6\"\n",
    "GREY = \"#95a5a6\"\n",
    "RED = \"#e74c3c\"\n",
    "ORANGE = \"#f39c12\""
   ]
  },
  {
   "cell_type": "code",
   "execution_count": 58,
   "metadata": {},
   "outputs": [
    {
     "data": {
      "image/png": "[encoded data removed]",
      "text/plain": [
       "<Figure size 700x2100 with 1 Axes>"
      ]
     },
     "metadata": {},
     "output_type": "display_data"
    }
   ],
   "source": [
    "def get_data_points(head_data):\n",
    "  xs, ys, avgs = [], [], []\n",
    "  for layer in range(12):\n",
    "    for head in range(12):\n",
    "      ys.append(head_data[layer, head])\n",
    "      xs.append(1 + layer)\n",
    "    avgs.append(head_data[layer].mean())\n",
    "  return xs, ys, avgs\n",
    "\n",
    "\n",
    "## thi is with 2 enfding functions\n",
    "\n",
    "def add_line(key, ax, color, label, plot_avgs=True):\n",
    "  xs, ys, avgs = get_data_points(avg_attns[key])\n",
    "  ax.scatter(xs, ys, s=12, label=label, color=color)\n",
    "  if plot_avgs:\n",
    "    ax.plot(1 + np.arange(len(avgs)), avgs, color=color)\n",
    "  ax.legend(loc=\"best\")\n",
    "  ax.set_xlabel(\"Layer\")\n",
    "  ax.set_ylabel(\"Max. Attribution\")\n",
    "\n",
    "\n",
    "plt.figure(figsize=(7, 21))\n",
    "ax = plt.subplot(4, 1, 1)\n",
    "for key, color, label in [ (\"cls\", RED, \"[CLS]\"),(\"sep\", BLUE, \"[SEP]\")]:\n",
    "  add_line(key, ax, color, label)"
   ]
  },
  {
   "cell_type": "markdown",
   "metadata": {},
   "source": [
    "## Average Attribution Scores on Syntactic Types"
   ]
  },
  {
   "cell_type": "code",
   "execution_count": 46,
   "metadata": {},
   "outputs": [],
   "source": [
    "def get_syntax_types_for_code(code_snippet):\n",
    "  types = [\"[CLS]\"]\n",
    "  code = [\"<s>\"]\n",
    "  tree = list(javalang.tokenizer.tokenize(code_snippet))\n",
    "  \n",
    "  for i in tree:\n",
    "    j = str(i)\n",
    "    j = j.split(\" \")\n",
    "    if j[1] == '\"MASK\"':\n",
    "      types.append('[MASK]')\n",
    "      code.append('<mask>')\n",
    "    else:\n",
    "      types.append(j[0].lower())\n",
    "      code.append(j[1][1:-1])\n",
    "    \n",
    "  types.append(\"[SEP]\")\n",
    "  code.append(\"</s>\")\n",
    "  return np.array(types), ' '.join(code)\n",
    "\n",
    "def get_start_end_of_token_when_tokenized(code, types, tokenizer):\n",
    "  reindexed_types = []\n",
    "  start = 0\n",
    "  end = 0\n",
    "  for index, each_token in enumerate(code.split(\" \")):\n",
    "    tokenized_list = tokenizer.tokenize(each_token)\n",
    "    for i in range(len(tokenized_list)):\n",
    "      end += 1\n",
    "    reindexed_types.append((start, end-1))\n",
    "    start = end\n",
    "  return reindexed_types\n",
    "\n",
    "def getInstanceSyntaxAttributionScore(codes, tokenizer, syntaxList):\n",
    "    all_instances = []\n",
    "\n",
    "    with torch.no_grad():\n",
    "        for eachCode in tqdm(codes):\n",
    "            try:\n",
    "                Instantce_Result = {}\n",
    "                for syntaxType in syntaxList:\n",
    "                    Instantce_Result[syntaxType] = []\n",
    "                    \n",
    "                cleancode = eachCode.replace(\"<s> \", \"\").replace(\" </s>\", \"\").replace('<mask>', 'MASK')\n",
    "                types, rewrote_code = get_syntax_types_for_code(cleancode)\n",
    "                # send input to model\n",
    "                tokenized_text = tokenizer.convert_tokens_to_ids(tokenizer.tokenize(rewrote_code))\n",
    "                input_ids = torch.tensor([tokenized_text]).to(device)\n",
    "                # get reference indices\n",
    "                reference_indices = token_reference.generate_reference(input_ids.shape[1], device=device).unsqueeze(0)\n",
    "                # get layer attribution\n",
    "                layer_attrs = []\n",
    "                layer_attn_mat = []\n",
    "                input_embeddings, ref_input_embeddings = construct_whole_bert_embeddings(input_ids, reference_indices)\n",
    "                for i in range(model.config.num_hidden_layers):\n",
    "                    lc = LayerConductance(predict_forward_func, \n",
    "                                        model.roberta.encoder.layer[i])\n",
    "                    layer_attributions = lc.attribute(inputs=input_embeddings, \n",
    "                                                            baselines=ref_input_embeddings, \n",
    "                                                            additional_forward_args=(tokenized_text))\n",
    "                    layer_attrs.append(summarize_attributions(layer_attributions[0]))\n",
    "                    layer_attn_mat.append(layer_attributions[1])\n",
    "                # layer x seq_len\n",
    "                layer_attrs = torch.stack(layer_attrs)\n",
    "                # layer x batch x head x seq_len x seq_len\n",
    "                layer_attn_mat = torch.stack(layer_attn_mat)\n",
    "                # get start and end index of each token\n",
    "                start_end = get_start_end_of_token_when_tokenized(rewrote_code, types, tokenizer)\n",
    "                \n",
    "                for syntaxType in syntaxList:\n",
    "                    attribution_scores = [[[] for col in range(12)] for row in range(12)]\n",
    "                    for layer in range(12):\n",
    "                        for head in range(12):\n",
    "                            for each_sep_index in np.where(types==syntaxType)[0]:\n",
    "                                start_index, end_index = start_end[each_sep_index]\n",
    "                                interim_value = layer_attn_mat[layer][0][head][:, start_index:end_index+1].mean().cpu().detach().numpy()\n",
    "                                if np.isnan(interim_value):\n",
    "                                    pass\n",
    "                                else: \n",
    "                                    attribution_scores[layer][head].append(interim_value)\n",
    "                    \n",
    "                    if np.array(attribution_scores).shape[2] != 0:\n",
    "                        Instantce_Result[syntaxType].append(np.array(attribution_scores))\n",
    "\n",
    "            except Exception as e:\n",
    "                print(e)\n",
    "            all_instances.append(Instantce_Result)\n",
    "\n",
    "    return all_instances"
   ]
  },
  {
   "cell_type": "code",
   "execution_count": 47,
   "metadata": {},
   "outputs": [],
   "source": [
    "syntax_list = ['annotation', 'basictype', 'boolean', \n",
    "            'decimalinteger', 'identifier', 'keyword',\n",
    "            'modifier', 'operator', 'separator', 'null',\n",
    "            'string', 'decimalfloatingpoint']"
   ]
  },
  {
   "cell_type": "code",
   "execution_count": 48,
   "metadata": {},
   "outputs": [
    {
     "name": "stderr",
     "output_type": "stream",
     "text": [
      "  2%|▏         | 30/1753 [01:19<1:15:48,  2.64s/it]"
     ]
    },
    {
     "name": "stdout",
     "output_type": "stream",
     "text": [
      "Mask token not in tokenized text\n",
      "50264 is not in list\n"
     ]
    },
    {
     "name": "stderr",
     "output_type": "stream",
     "text": [
      "  3%|▎         | 52/1753 [02:13<1:01:31,  2.17s/it]"
     ]
    },
    {
     "name": "stdout",
     "output_type": "stream",
     "text": [
      "Mask token not in tokenized text\n",
      "50264 is not in list\n"
     ]
    },
    {
     "name": "stderr",
     "output_type": "stream",
     "text": [
      "  4%|▎         | 65/1753 [02:45<1:35:20,  3.39s/it]"
     ]
    },
    {
     "name": "stdout",
     "output_type": "stream",
     "text": [
      "Mask token not in tokenized text\n",
      "50264 is not in list\n"
     ]
    },
    {
     "name": "stderr",
     "output_type": "stream",
     "text": [
      "  4%|▍         | 69/1753 [02:53<1:14:01,  2.64s/it]"
     ]
    },
    {
     "name": "stdout",
     "output_type": "stream",
     "text": [
      "Mask token not in tokenized text\n",
      "50264 is not in list\n"
     ]
    },
    {
     "name": "stderr",
     "output_type": "stream",
     "text": [
      "  5%|▍         | 84/1753 [03:31<1:12:08,  2.59s/it]"
     ]
    },
    {
     "name": "stdout",
     "output_type": "stream",
     "text": [
      "Mask token not in tokenized text\n",
      "50264 is not in list\n"
     ]
    },
    {
     "name": "stderr",
     "output_type": "stream",
     "text": [
      "  6%|▋         | 110/1753 [04:43<1:18:21,  2.86s/it]"
     ]
    },
    {
     "name": "stdout",
     "output_type": "stream",
     "text": [
      "Mask token not in tokenized text\n",
      "50264 is not in list\n"
     ]
    },
    {
     "name": "stderr",
     "output_type": "stream",
     "text": [
      "  6%|▋         | 113/1753 [04:46<53:01,  1.94s/it]  "
     ]
    },
    {
     "name": "stdout",
     "output_type": "stream",
     "text": [
      "Mask token not in tokenized text\n",
      "50264 is not in list\n"
     ]
    },
    {
     "name": "stderr",
     "output_type": "stream",
     "text": [
      "  7%|▋         | 119/1753 [05:03<1:08:10,  2.50s/it]"
     ]
    },
    {
     "name": "stdout",
     "output_type": "stream",
     "text": [
      "Mask token not in tokenized text\n",
      "50264 is not in list\n"
     ]
    },
    {
     "name": "stderr",
     "output_type": "stream",
     "text": [
      "  7%|▋         | 124/1753 [05:11<58:52,  2.17s/it]  "
     ]
    },
    {
     "name": "stdout",
     "output_type": "stream",
     "text": [
      "Mask token not in tokenized text\n",
      "50264 is not in list\n"
     ]
    },
    {
     "name": "stderr",
     "output_type": "stream",
     "text": [
      "  7%|▋         | 126/1753 [05:13<42:41,  1.57s/it]"
     ]
    },
    {
     "name": "stdout",
     "output_type": "stream",
     "text": [
      "Mask token not in tokenized text\n",
      "50264 is not in list\n"
     ]
    },
    {
     "name": "stderr",
     "output_type": "stream",
     "text": [
      "  8%|▊         | 136/1753 [05:36<1:05:38,  2.44s/it]"
     ]
    },
    {
     "name": "stdout",
     "output_type": "stream",
     "text": [
      "Mask token not in tokenized text\n",
      "50264 is not in list\n"
     ]
    },
    {
     "name": "stderr",
     "output_type": "stream",
     "text": [
      "  8%|▊         | 144/1753 [05:50<1:05:36,  2.45s/it]"
     ]
    },
    {
     "name": "stdout",
     "output_type": "stream",
     "text": [
      "Mask token not in tokenized text\n",
      "50264 is not in list\n"
     ]
    },
    {
     "name": "stderr",
     "output_type": "stream",
     "text": [
      "  8%|▊         | 147/1753 [05:54<46:53,  1.75s/it]  "
     ]
    },
    {
     "name": "stdout",
     "output_type": "stream",
     "text": [
      "Mask token not in tokenized text\n",
      "50264 is not in list\n"
     ]
    },
    {
     "name": "stderr",
     "output_type": "stream",
     "text": [
      " 10%|█         | 183/1753 [07:35<1:42:47,  3.93s/it]"
     ]
    },
    {
     "name": "stdout",
     "output_type": "stream",
     "text": [
      "Mask token not in tokenized text\n",
      "50264 is not in list\n"
     ]
    },
    {
     "name": "stderr",
     "output_type": "stream",
     "text": [
      " 11%|█         | 187/1753 [07:46<1:27:37,  3.36s/it]"
     ]
    },
    {
     "name": "stdout",
     "output_type": "stream",
     "text": [
      "Mask token not in tokenized text\n",
      "50264 is not in list\n"
     ]
    },
    {
     "name": "stderr",
     "output_type": "stream",
     "text": [
      " 11%|█         | 194/1753 [07:57<49:01,  1.89s/it]  "
     ]
    },
    {
     "name": "stdout",
     "output_type": "stream",
     "text": [
      "Mask token not in tokenized text\n",
      "50264 is not in list\n"
     ]
    },
    {
     "name": "stderr",
     "output_type": "stream",
     "text": [
      " 12%|█▏        | 207/1753 [08:28<1:06:04,  2.56s/it]"
     ]
    },
    {
     "name": "stdout",
     "output_type": "stream",
     "text": [
      "Mask token not in tokenized text\n",
      "50264 is not in list\n"
     ]
    },
    {
     "name": "stderr",
     "output_type": "stream",
     "text": [
      " 13%|█▎        | 220/1753 [09:05<1:10:58,  2.78s/it]"
     ]
    },
    {
     "name": "stdout",
     "output_type": "stream",
     "text": [
      "Mask token not in tokenized text\n",
      "50264 is not in list\n"
     ]
    },
    {
     "name": "stderr",
     "output_type": "stream",
     "text": [
      " 14%|█▍        | 251/1753 [10:32<45:17,  1.81s/it]  "
     ]
    },
    {
     "name": "stdout",
     "output_type": "stream",
     "text": [
      "Mask token not in tokenized text\n",
      "50264 is not in list\n"
     ]
    },
    {
     "name": "stderr",
     "output_type": "stream",
     "text": [
      " 18%|█▊        | 316/1753 [13:29<1:01:50,  2.58s/it]"
     ]
    },
    {
     "name": "stdout",
     "output_type": "stream",
     "text": [
      "Mask token not in tokenized text\n",
      "50264 is not in list\n"
     ]
    },
    {
     "name": "stderr",
     "output_type": "stream",
     "text": [
      " 19%|█▉        | 335/1753 [14:19<1:27:22,  3.70s/it]"
     ]
    },
    {
     "name": "stdout",
     "output_type": "stream",
     "text": [
      "Mask token not in tokenized text\n",
      "50264 is not in list\n"
     ]
    },
    {
     "name": "stderr",
     "output_type": "stream",
     "text": [
      " 19%|█▉        | 339/1753 [14:26<58:11,  2.47s/it]  "
     ]
    },
    {
     "name": "stdout",
     "output_type": "stream",
     "text": [
      "Mask token not in tokenized text\n",
      "50264 is not in list\n"
     ]
    },
    {
     "name": "stderr",
     "output_type": "stream",
     "text": [
      " 20%|██        | 359/1753 [15:13<1:06:24,  2.86s/it]"
     ]
    },
    {
     "name": "stdout",
     "output_type": "stream",
     "text": [
      "Mask token not in tokenized text\n",
      "50264 is not in list\n"
     ]
    },
    {
     "name": "stderr",
     "output_type": "stream",
     "text": [
      " 21%|██        | 371/1753 [16:00<2:06:18,  5.48s/it]"
     ]
    },
    {
     "name": "stdout",
     "output_type": "stream",
     "text": [
      "Mask token not in tokenized text\n",
      "50264 is not in list\n"
     ]
    },
    {
     "name": "stderr",
     "output_type": "stream",
     "text": [
      " 22%|██▏       | 378/1753 [16:18<1:20:36,  3.52s/it]"
     ]
    },
    {
     "name": "stdout",
     "output_type": "stream",
     "text": [
      "Mask token not in tokenized text\n",
      "50264 is not in list\n"
     ]
    },
    {
     "name": "stderr",
     "output_type": "stream",
     "text": [
      " 22%|██▏       | 384/1753 [16:30<59:40,  2.62s/it]  "
     ]
    },
    {
     "name": "stdout",
     "output_type": "stream",
     "text": [
      "Mask token not in tokenized text\n",
      "50264 is not in list\n"
     ]
    },
    {
     "name": "stderr",
     "output_type": "stream",
     "text": [
      " 22%|██▏       | 391/1753 [16:41<42:44,  1.88s/it]"
     ]
    },
    {
     "name": "stdout",
     "output_type": "stream",
     "text": [
      "Mask token not in tokenized text\n",
      "50264 is not in list\n"
     ]
    },
    {
     "name": "stderr",
     "output_type": "stream",
     "text": [
      " 23%|██▎       | 400/1753 [16:59<47:05,  2.09s/it]"
     ]
    },
    {
     "name": "stdout",
     "output_type": "stream",
     "text": [
      "Mask token not in tokenized text\n",
      "50264 is not in list\n"
     ]
    },
    {
     "name": "stderr",
     "output_type": "stream",
     "text": [
      " 23%|██▎       | 409/1753 [17:20<1:05:20,  2.92s/it]"
     ]
    },
    {
     "name": "stdout",
     "output_type": "stream",
     "text": [
      "Mask token not in tokenized text\n",
      "50264 is not in list\n"
     ]
    },
    {
     "name": "stderr",
     "output_type": "stream",
     "text": [
      " 24%|██▎       | 413/1753 [17:26<45:34,  2.04s/it]  "
     ]
    },
    {
     "name": "stdout",
     "output_type": "stream",
     "text": [
      "Mask token not in tokenized text\n",
      "50264 is not in list\n"
     ]
    },
    {
     "name": "stderr",
     "output_type": "stream",
     "text": [
      " 25%|██▍       | 438/1753 [18:32<1:34:24,  4.31s/it]"
     ]
    },
    {
     "name": "stdout",
     "output_type": "stream",
     "text": [
      "Mask token not in tokenized text\n",
      "50264 is not in list\n"
     ]
    },
    {
     "name": "stderr",
     "output_type": "stream",
     "text": [
      " 25%|██▌       | 441/1753 [18:38<1:09:02,  3.16s/it]"
     ]
    },
    {
     "name": "stdout",
     "output_type": "stream",
     "text": [
      "Mask token not in tokenized text\n",
      "50264 is not in list\n"
     ]
    },
    {
     "name": "stderr",
     "output_type": "stream",
     "text": [
      " 25%|██▌       | 446/1753 [18:53<1:10:32,  3.24s/it]"
     ]
    },
    {
     "name": "stdout",
     "output_type": "stream",
     "text": [
      "Mask token not in tokenized text\n",
      "50264 is not in list\n"
     ]
    },
    {
     "name": "stderr",
     "output_type": "stream",
     "text": [
      " 28%|██▊       | 487/1753 [20:42<43:56,  2.08s/it]  "
     ]
    },
    {
     "name": "stdout",
     "output_type": "stream",
     "text": [
      "Mask token not in tokenized text\n",
      "50264 is not in list\n"
     ]
    },
    {
     "name": "stderr",
     "output_type": "stream",
     "text": [
      " 28%|██▊       | 496/1753 [21:12<1:16:38,  3.66s/it]"
     ]
    },
    {
     "name": "stdout",
     "output_type": "stream",
     "text": [
      "Mask token not in tokenized text\n",
      "50264 is not in list\n"
     ]
    },
    {
     "name": "stderr",
     "output_type": "stream",
     "text": [
      " 29%|██▊       | 502/1753 [21:30<1:04:13,  3.08s/it]"
     ]
    },
    {
     "name": "stdout",
     "output_type": "stream",
     "text": [
      "Mask token not in tokenized text\n",
      "50264 is not in list\n"
     ]
    },
    {
     "name": "stderr",
     "output_type": "stream",
     "text": [
      " 29%|██▉       | 507/1753 [21:42<54:26,  2.62s/it]  "
     ]
    },
    {
     "name": "stdout",
     "output_type": "stream",
     "text": [
      "Mask token not in tokenized text\n",
      "50264 is not in list\n"
     ]
    },
    {
     "name": "stderr",
     "output_type": "stream",
     "text": [
      " 30%|██▉       | 523/1753 [22:23<1:15:20,  3.67s/it]"
     ]
    },
    {
     "name": "stdout",
     "output_type": "stream",
     "text": [
      "Mask token not in tokenized text\n",
      "50264 is not in list\n"
     ]
    },
    {
     "name": "stderr",
     "output_type": "stream",
     "text": [
      " 30%|██▉       | 525/1753 [22:25<51:01,  2.49s/it]  "
     ]
    },
    {
     "name": "stdout",
     "output_type": "stream",
     "text": [
      "Mask token not in tokenized text\n",
      "50264 is not in list\n"
     ]
    },
    {
     "name": "stderr",
     "output_type": "stream",
     "text": [
      " 31%|███       | 538/1753 [23:08<57:14,  2.83s/it]  "
     ]
    },
    {
     "name": "stdout",
     "output_type": "stream",
     "text": [
      "Mask token not in tokenized text\n",
      "50264 is not in list\n"
     ]
    },
    {
     "name": "stderr",
     "output_type": "stream",
     "text": [
      " 31%|███       | 540/1753 [23:11<43:22,  2.15s/it]"
     ]
    },
    {
     "name": "stdout",
     "output_type": "stream",
     "text": [
      "Mask token not in tokenized text\n",
      "50264 is not in list\n"
     ]
    },
    {
     "name": "stderr",
     "output_type": "stream",
     "text": [
      " 31%|███       | 545/1753 [23:18<32:34,  1.62s/it]"
     ]
    },
    {
     "name": "stdout",
     "output_type": "stream",
     "text": [
      "Mask token not in tokenized text\n",
      "50264 is not in list\n"
     ]
    },
    {
     "name": "stderr",
     "output_type": "stream",
     "text": [
      " 32%|███▏      | 553/1753 [23:37<46:43,  2.34s/it]"
     ]
    },
    {
     "name": "stdout",
     "output_type": "stream",
     "text": [
      "Mask token not in tokenized text\n",
      "50264 is not in list\n"
     ]
    },
    {
     "name": "stderr",
     "output_type": "stream",
     "text": [
      " 33%|███▎      | 571/1753 [24:20<38:08,  1.94s/it]  "
     ]
    },
    {
     "name": "stdout",
     "output_type": "stream",
     "text": [
      "Mask token not in tokenized text\n",
      "50264 is not in list\n"
     ]
    },
    {
     "name": "stderr",
     "output_type": "stream",
     "text": [
      " 33%|███▎      | 576/1753 [24:32<44:24,  2.26s/it]"
     ]
    },
    {
     "name": "stdout",
     "output_type": "stream",
     "text": [
      "Mask token not in tokenized text\n",
      "50264 is not in list\n"
     ]
    },
    {
     "name": "stderr",
     "output_type": "stream",
     "text": [
      " 36%|███▌      | 630/1753 [27:12<57:43,  3.08s/it]  "
     ]
    },
    {
     "name": "stdout",
     "output_type": "stream",
     "text": [
      "Mask token not in tokenized text\n",
      "50264 is not in list\n"
     ]
    },
    {
     "name": "stderr",
     "output_type": "stream",
     "text": [
      " 37%|███▋      | 649/1753 [27:56<52:55,  2.88s/it]"
     ]
    },
    {
     "name": "stdout",
     "output_type": "stream",
     "text": [
      "Mask token not in tokenized text\n",
      "50264 is not in list\n"
     ]
    },
    {
     "name": "stderr",
     "output_type": "stream",
     "text": [
      " 37%|███▋      | 655/1753 [28:13<59:33,  3.25s/it]"
     ]
    },
    {
     "name": "stdout",
     "output_type": "stream",
     "text": [
      "Mask token not in tokenized text\n",
      "50264 is not in list\n"
     ]
    },
    {
     "name": "stderr",
     "output_type": "stream",
     "text": [
      " 38%|███▊      | 662/1753 [28:27<38:56,  2.14s/it]"
     ]
    },
    {
     "name": "stdout",
     "output_type": "stream",
     "text": [
      "Mask token not in tokenized text\n",
      "50264 is not in list\n"
     ]
    },
    {
     "name": "stderr",
     "output_type": "stream",
     "text": [
      " 39%|███▉      | 686/1753 [29:28<39:13,  2.21s/it]  "
     ]
    },
    {
     "name": "stdout",
     "output_type": "stream",
     "text": [
      "Mask token not in tokenized text\n",
      "50264 is not in list\n"
     ]
    },
    {
     "name": "stderr",
     "output_type": "stream",
     "text": [
      " 40%|███▉      | 701/1753 [30:05<58:30,  3.34s/it]  "
     ]
    },
    {
     "name": "stdout",
     "output_type": "stream",
     "text": [
      "Mask token not in tokenized text\n",
      "50264 is not in list\n"
     ]
    },
    {
     "name": "stderr",
     "output_type": "stream",
     "text": [
      " 41%|████      | 714/1753 [30:43<59:31,  3.44s/it]  "
     ]
    },
    {
     "name": "stdout",
     "output_type": "stream",
     "text": [
      "Mask token not in tokenized text\n",
      "50264 is not in list\n"
     ]
    },
    {
     "name": "stderr",
     "output_type": "stream",
     "text": [
      " 42%|████▏     | 737/1753 [31:42<44:35,  2.63s/it]  "
     ]
    },
    {
     "name": "stdout",
     "output_type": "stream",
     "text": [
      "Mask token not in tokenized text\n",
      "50264 is not in list\n"
     ]
    },
    {
     "name": "stderr",
     "output_type": "stream",
     "text": [
      " 42%|████▏     | 739/1753 [31:45<36:22,  2.15s/it]"
     ]
    },
    {
     "name": "stdout",
     "output_type": "stream",
     "text": [
      "Mask token not in tokenized text\n",
      "50264 is not in list\n"
     ]
    },
    {
     "name": "stderr",
     "output_type": "stream",
     "text": [
      " 43%|████▎     | 752/1753 [32:22<55:08,  3.31s/it]"
     ]
    },
    {
     "name": "stdout",
     "output_type": "stream",
     "text": [
      "Mask token not in tokenized text\n",
      "50264 is not in list\n"
     ]
    },
    {
     "name": "stderr",
     "output_type": "stream",
     "text": [
      " 43%|████▎     | 761/1753 [32:53<49:10,  2.97s/it]  "
     ]
    },
    {
     "name": "stdout",
     "output_type": "stream",
     "text": [
      "Mask token not in tokenized text\n",
      "50264 is not in list\n"
     ]
    },
    {
     "name": "stderr",
     "output_type": "stream",
     "text": [
      " 46%|████▌     | 801/1753 [34:52<52:50,  3.33s/it]  "
     ]
    },
    {
     "name": "stdout",
     "output_type": "stream",
     "text": [
      "Mask token not in tokenized text\n",
      "50264 is not in list\n"
     ]
    },
    {
     "name": "stderr",
     "output_type": "stream",
     "text": [
      " 48%|████▊     | 838/1753 [36:20<51:29,  3.38s/it]"
     ]
    },
    {
     "name": "stdout",
     "output_type": "stream",
     "text": [
      "Mask token not in tokenized text\n",
      "50264 is not in list\n"
     ]
    },
    {
     "name": "stderr",
     "output_type": "stream",
     "text": [
      " 48%|████▊     | 849/1753 [36:50<1:06:07,  4.39s/it]"
     ]
    },
    {
     "name": "stdout",
     "output_type": "stream",
     "text": [
      "Mask token not in tokenized text\n",
      "50264 is not in list\n"
     ]
    },
    {
     "name": "stderr",
     "output_type": "stream",
     "text": [
      " 49%|████▊     | 853/1753 [36:59<49:40,  3.31s/it]  "
     ]
    },
    {
     "name": "stdout",
     "output_type": "stream",
     "text": [
      "Mask token not in tokenized text\n",
      "50264 is not in list\n"
     ]
    },
    {
     "name": "stderr",
     "output_type": "stream",
     "text": [
      " 49%|████▉     | 856/1753 [37:06<41:33,  2.78s/it]"
     ]
    },
    {
     "name": "stdout",
     "output_type": "stream",
     "text": [
      "Mask token not in tokenized text\n",
      "50264 is not in list\n"
     ]
    },
    {
     "name": "stderr",
     "output_type": "stream",
     "text": [
      " 50%|████▉     | 871/1753 [37:51<52:10,  3.55s/it]  "
     ]
    },
    {
     "name": "stdout",
     "output_type": "stream",
     "text": [
      "Mask token not in tokenized text\n",
      "50264 is not in list\n"
     ]
    },
    {
     "name": "stderr",
     "output_type": "stream",
     "text": [
      " 50%|█████     | 882/1753 [38:22<39:16,  2.71s/it]"
     ]
    },
    {
     "name": "stdout",
     "output_type": "stream",
     "text": [
      "Mask token not in tokenized text\n",
      "50264 is not in list\n"
     ]
    },
    {
     "name": "stderr",
     "output_type": "stream",
     "text": [
      " 52%|█████▏    | 907/1753 [39:44<41:53,  2.97s/it]  "
     ]
    },
    {
     "name": "stdout",
     "output_type": "stream",
     "text": [
      "Mask token not in tokenized text\n",
      "50264 is not in list\n",
      "Mask token not in tokenized text\n",
      "50264 is not in list\n"
     ]
    },
    {
     "name": "stderr",
     "output_type": "stream",
     "text": [
      " 52%|█████▏    | 911/1753 [39:49<27:51,  1.98s/it]"
     ]
    },
    {
     "name": "stdout",
     "output_type": "stream",
     "text": [
      "Mask token not in tokenized text\n",
      "50264 is not in list\n"
     ]
    },
    {
     "name": "stderr",
     "output_type": "stream",
     "text": [
      " 53%|█████▎    | 930/1753 [40:37<31:46,  2.32s/it]"
     ]
    },
    {
     "name": "stdout",
     "output_type": "stream",
     "text": [
      "Mask token not in tokenized text\n",
      "50264 is not in list\n"
     ]
    },
    {
     "name": "stderr",
     "output_type": "stream",
     "text": [
      " 54%|█████▎    | 940/1753 [41:10<50:14,  3.71s/it]"
     ]
    },
    {
     "name": "stdout",
     "output_type": "stream",
     "text": [
      "Mask token not in tokenized text\n",
      "50264 is not in list\n"
     ]
    },
    {
     "name": "stderr",
     "output_type": "stream",
     "text": [
      " 55%|█████▌    | 968/1753 [42:27<31:02,  2.37s/it]"
     ]
    },
    {
     "name": "stdout",
     "output_type": "stream",
     "text": [
      "Mask token not in tokenized text\n",
      "50264 is not in list\n"
     ]
    },
    {
     "name": "stderr",
     "output_type": "stream",
     "text": [
      " 55%|█████▌    | 972/1753 [42:35<28:14,  2.17s/it]"
     ]
    },
    {
     "name": "stdout",
     "output_type": "stream",
     "text": [
      "Mask token not in tokenized text\n",
      "50264 is not in list\n"
     ]
    },
    {
     "name": "stderr",
     "output_type": "stream",
     "text": [
      " 56%|█████▌    | 977/1753 [42:43<23:55,  1.85s/it]"
     ]
    },
    {
     "name": "stdout",
     "output_type": "stream",
     "text": [
      "Mask token not in tokenized text\n",
      "50264 is not in list\n"
     ]
    },
    {
     "name": "stderr",
     "output_type": "stream",
     "text": [
      " 57%|█████▋    | 994/1753 [43:41<46:20,  3.66s/it]"
     ]
    },
    {
     "name": "stdout",
     "output_type": "stream",
     "text": [
      "Mask token not in tokenized text\n",
      "50264 is not in list\n"
     ]
    },
    {
     "name": "stderr",
     "output_type": "stream",
     "text": [
      " 58%|█████▊    | 1016/1753 [44:41<46:47,  3.81s/it]"
     ]
    },
    {
     "name": "stdout",
     "output_type": "stream",
     "text": [
      "Mask token not in tokenized text\n",
      "50264 is not in list\n"
     ]
    },
    {
     "name": "stderr",
     "output_type": "stream",
     "text": [
      " 59%|█████▊    | 1027/1753 [45:16<40:28,  3.35s/it]"
     ]
    },
    {
     "name": "stdout",
     "output_type": "stream",
     "text": [
      "Mask token not in tokenized text\n",
      "50264 is not in list\n"
     ]
    },
    {
     "name": "stderr",
     "output_type": "stream",
     "text": [
      " 59%|█████▉    | 1042/1753 [45:58<42:32,  3.59s/it]"
     ]
    },
    {
     "name": "stdout",
     "output_type": "stream",
     "text": [
      "Mask token not in tokenized text\n",
      "50264 is not in list\n"
     ]
    },
    {
     "name": "stderr",
     "output_type": "stream",
     "text": [
      " 60%|██████    | 1052/1753 [46:19<24:04,  2.06s/it]"
     ]
    },
    {
     "name": "stdout",
     "output_type": "stream",
     "text": [
      "Mask token not in tokenized text\n",
      "50264 is not in list\n"
     ]
    },
    {
     "name": "stderr",
     "output_type": "stream",
     "text": [
      " 61%|██████    | 1069/1753 [47:00<31:21,  2.75s/it]"
     ]
    },
    {
     "name": "stdout",
     "output_type": "stream",
     "text": [
      "Mask token not in tokenized text\n",
      "50264 is not in list\n"
     ]
    },
    {
     "name": "stderr",
     "output_type": "stream",
     "text": [
      " 61%|██████    | 1072/1753 [47:06<25:11,  2.22s/it]"
     ]
    },
    {
     "name": "stdout",
     "output_type": "stream",
     "text": [
      "Mask token not in tokenized text\n",
      "50264 is not in list\n"
     ]
    },
    {
     "name": "stderr",
     "output_type": "stream",
     "text": [
      " 62%|██████▏   | 1081/1753 [47:24<24:37,  2.20s/it]"
     ]
    },
    {
     "name": "stdout",
     "output_type": "stream",
     "text": [
      "Mask token not in tokenized text\n",
      "50264 is not in list\n",
      "Mask token not in tokenized text\n",
      "50264 is not in list\n"
     ]
    },
    {
     "name": "stderr",
     "output_type": "stream",
     "text": [
      " 62%|██████▏   | 1090/1753 [47:44<27:16,  2.47s/it]"
     ]
    },
    {
     "name": "stdout",
     "output_type": "stream",
     "text": [
      "Mask token not in tokenized text\n",
      "50264 is not in list\n",
      "Mask token not in tokenized text\n",
      "50264 is not in list\n"
     ]
    },
    {
     "name": "stderr",
     "output_type": "stream",
     "text": [
      " 63%|██████▎   | 1097/1753 [47:58<26:29,  2.42s/it]"
     ]
    },
    {
     "name": "stdout",
     "output_type": "stream",
     "text": [
      "Mask token not in tokenized text\n",
      "50264 is not in list\n"
     ]
    },
    {
     "name": "stderr",
     "output_type": "stream",
     "text": [
      " 63%|██████▎   | 1105/1753 [48:17<23:44,  2.20s/it]"
     ]
    },
    {
     "name": "stdout",
     "output_type": "stream",
     "text": [
      "Mask token not in tokenized text\n",
      "50264 is not in list\n"
     ]
    },
    {
     "name": "stderr",
     "output_type": "stream",
     "text": [
      " 64%|██████▍   | 1125/1753 [49:28<44:49,  4.28s/it]"
     ]
    },
    {
     "name": "stdout",
     "output_type": "stream",
     "text": [
      "Mask token not in tokenized text\n",
      "50264 is not in list\n"
     ]
    },
    {
     "name": "stderr",
     "output_type": "stream",
     "text": [
      " 66%|██████▌   | 1152/1753 [50:29<19:23,  1.94s/it]"
     ]
    },
    {
     "name": "stdout",
     "output_type": "stream",
     "text": [
      "Mask token not in tokenized text\n",
      "50264 is not in list\n"
     ]
    },
    {
     "name": "stderr",
     "output_type": "stream",
     "text": [
      " 66%|██████▌   | 1159/1753 [50:52<30:02,  3.03s/it]"
     ]
    },
    {
     "name": "stdout",
     "output_type": "stream",
     "text": [
      "Mask token not in tokenized text\n",
      "50264 is not in list\n"
     ]
    },
    {
     "name": "stderr",
     "output_type": "stream",
     "text": [
      " 66%|██████▋   | 1162/1753 [50:57<24:30,  2.49s/it]"
     ]
    },
    {
     "name": "stdout",
     "output_type": "stream",
     "text": [
      "Mask token not in tokenized text\n",
      "50264 is not in list\n",
      "Mask token not in tokenized text\n",
      "50264 is not in list\n"
     ]
    },
    {
     "name": "stderr",
     "output_type": "stream",
     "text": [
      " 67%|██████▋   | 1174/1753 [51:27<24:44,  2.56s/it]"
     ]
    },
    {
     "name": "stdout",
     "output_type": "stream",
     "text": [
      "Mask token not in tokenized text\n",
      "50264 is not in list\n"
     ]
    },
    {
     "name": "stderr",
     "output_type": "stream",
     "text": [
      " 67%|██████▋   | 1182/1753 [51:50<25:35,  2.69s/it]"
     ]
    },
    {
     "name": "stdout",
     "output_type": "stream",
     "text": [
      "Mask token not in tokenized text\n",
      "50264 is not in list\n",
      "Mask token not in tokenized text\n",
      "50264 is not in list\n"
     ]
    },
    {
     "name": "stderr",
     "output_type": "stream",
     "text": [
      " 68%|██████▊   | 1187/1753 [51:57<19:17,  2.04s/it]"
     ]
    },
    {
     "name": "stdout",
     "output_type": "stream",
     "text": [
      "Mask token not in tokenized text\n",
      "50264 is not in list\n"
     ]
    },
    {
     "name": "stderr",
     "output_type": "stream",
     "text": [
      " 68%|██████▊   | 1190/1753 [52:03<19:14,  2.05s/it]"
     ]
    },
    {
     "name": "stdout",
     "output_type": "stream",
     "text": [
      "Mask token not in tokenized text\n",
      "50264 is not in list\n"
     ]
    },
    {
     "name": "stderr",
     "output_type": "stream",
     "text": [
      " 69%|██████▉   | 1207/1753 [52:54<27:53,  3.06s/it]"
     ]
    },
    {
     "name": "stdout",
     "output_type": "stream",
     "text": [
      "Mask token not in tokenized text\n",
      "50264 is not in list\n"
     ]
    },
    {
     "name": "stderr",
     "output_type": "stream",
     "text": [
      " 70%|███████   | 1233/1753 [54:07<22:12,  2.56s/it]"
     ]
    },
    {
     "name": "stdout",
     "output_type": "stream",
     "text": [
      "Mask token not in tokenized text\n",
      "50264 is not in list\n"
     ]
    },
    {
     "name": "stderr",
     "output_type": "stream",
     "text": [
      " 71%|███████   | 1242/1753 [54:42<33:26,  3.93s/it]"
     ]
    },
    {
     "name": "stdout",
     "output_type": "stream",
     "text": [
      "Mask token not in tokenized text\n",
      "50264 is not in list\n"
     ]
    },
    {
     "name": "stderr",
     "output_type": "stream",
     "text": [
      " 72%|███████▏  | 1258/1753 [55:29<32:48,  3.98s/it]"
     ]
    },
    {
     "name": "stdout",
     "output_type": "stream",
     "text": [
      "Mask token not in tokenized text\n",
      "50264 is not in list\n",
      "Mask token not in tokenized text\n",
      "50264 is not in list\n"
     ]
    },
    {
     "name": "stderr",
     "output_type": "stream",
     "text": [
      " 72%|███████▏  | 1261/1753 [55:31<17:43,  2.16s/it]"
     ]
    },
    {
     "name": "stdout",
     "output_type": "stream",
     "text": [
      "Mask token not in tokenized text\n",
      "50264 is not in list\n"
     ]
    },
    {
     "name": "stderr",
     "output_type": "stream",
     "text": [
      " 72%|███████▏  | 1269/1753 [55:43<14:10,  1.76s/it]"
     ]
    },
    {
     "name": "stdout",
     "output_type": "stream",
     "text": [
      "Mask token not in tokenized text\n",
      "50264 is not in list\n"
     ]
    },
    {
     "name": "stderr",
     "output_type": "stream",
     "text": [
      " 73%|███████▎  | 1280/1753 [56:12<18:53,  2.40s/it]"
     ]
    },
    {
     "name": "stdout",
     "output_type": "stream",
     "text": [
      "Mask token not in tokenized text\n",
      "50264 is not in list\n"
     ]
    },
    {
     "name": "stderr",
     "output_type": "stream",
     "text": [
      " 76%|███████▋  | 1341/1753 [58:58<20:19,  2.96s/it]"
     ]
    },
    {
     "name": "stdout",
     "output_type": "stream",
     "text": [
      "Mask token not in tokenized text\n",
      "50264 is not in list\n"
     ]
    },
    {
     "name": "stderr",
     "output_type": "stream",
     "text": [
      " 80%|███████▉  | 1394/1753 [1:01:48<21:07,  3.53s/it]"
     ]
    },
    {
     "name": "stdout",
     "output_type": "stream",
     "text": [
      "Mask token not in tokenized text\n",
      "50264 is not in list\n"
     ]
    },
    {
     "name": "stderr",
     "output_type": "stream",
     "text": [
      " 80%|███████▉  | 1401/1753 [1:01:57<09:25,  1.61s/it]"
     ]
    },
    {
     "name": "stdout",
     "output_type": "stream",
     "text": [
      "Mask token not in tokenized text\n",
      "50264 is not in list\n"
     ]
    },
    {
     "name": "stderr",
     "output_type": "stream",
     "text": [
      " 80%|████████  | 1403/1753 [1:01:58<06:34,  1.13s/it]"
     ]
    },
    {
     "name": "stdout",
     "output_type": "stream",
     "text": [
      "Mask token not in tokenized text\n",
      "50264 is not in list\n"
     ]
    },
    {
     "name": "stderr",
     "output_type": "stream",
     "text": [
      " 81%|████████  | 1422/1753 [1:02:35<09:38,  1.75s/it]"
     ]
    },
    {
     "name": "stdout",
     "output_type": "stream",
     "text": [
      "Mask token not in tokenized text\n",
      "50264 is not in list\n"
     ]
    },
    {
     "name": "stderr",
     "output_type": "stream",
     "text": [
      " 84%|████████▎ | 1466/1753 [1:03:50<06:31,  1.36s/it]"
     ]
    },
    {
     "name": "stdout",
     "output_type": "stream",
     "text": [
      "Mask token not in tokenized text\n",
      "50264 is not in list\n"
     ]
    },
    {
     "name": "stderr",
     "output_type": "stream",
     "text": [
      " 84%|████████▍ | 1477/1753 [1:04:04<06:27,  1.40s/it]"
     ]
    },
    {
     "name": "stdout",
     "output_type": "stream",
     "text": [
      "Mask token not in tokenized text\n",
      "50264 is not in list\n"
     ]
    },
    {
     "name": "stderr",
     "output_type": "stream",
     "text": [
      " 85%|████████▌ | 1496/1753 [1:04:39<11:32,  2.69s/it]"
     ]
    },
    {
     "name": "stdout",
     "output_type": "stream",
     "text": [
      "Mask token not in tokenized text\n",
      "50264 is not in list\n"
     ]
    },
    {
     "name": "stderr",
     "output_type": "stream",
     "text": [
      " 86%|████████▌ | 1506/1753 [1:04:53<06:36,  1.61s/it]"
     ]
    },
    {
     "name": "stdout",
     "output_type": "stream",
     "text": [
      "Mask token not in tokenized text\n",
      "50264 is not in list\n"
     ]
    },
    {
     "name": "stderr",
     "output_type": "stream",
     "text": [
      " 86%|████████▌ | 1508/1753 [1:04:57<07:39,  1.88s/it]"
     ]
    },
    {
     "name": "stdout",
     "output_type": "stream",
     "text": [
      "Mask token not in tokenized text\n",
      "50264 is not in list\n"
     ]
    },
    {
     "name": "stderr",
     "output_type": "stream",
     "text": [
      " 88%|████████▊ | 1547/1753 [1:06:08<05:09,  1.50s/it]"
     ]
    },
    {
     "name": "stdout",
     "output_type": "stream",
     "text": [
      "Mask token not in tokenized text\n",
      "50264 is not in list\n"
     ]
    },
    {
     "name": "stderr",
     "output_type": "stream",
     "text": [
      " 90%|█████████ | 1584/1753 [1:07:07<03:31,  1.25s/it]"
     ]
    },
    {
     "name": "stdout",
     "output_type": "stream",
     "text": [
      "Mask token not in tokenized text\n",
      "50264 is not in list\n"
     ]
    },
    {
     "name": "stderr",
     "output_type": "stream",
     "text": [
      " 91%|█████████ | 1593/1753 [1:07:24<04:37,  1.74s/it]"
     ]
    },
    {
     "name": "stdout",
     "output_type": "stream",
     "text": [
      "Mask token not in tokenized text\n",
      "50264 is not in list\n"
     ]
    },
    {
     "name": "stderr",
     "output_type": "stream",
     "text": [
      " 92%|█████████▏| 1621/1753 [1:08:18<02:47,  1.27s/it]"
     ]
    },
    {
     "name": "stdout",
     "output_type": "stream",
     "text": [
      "Mask token not in tokenized text\n",
      "50264 is not in list\n"
     ]
    },
    {
     "name": "stderr",
     "output_type": "stream",
     "text": [
      " 93%|█████████▎| 1639/1753 [1:08:52<03:15,  1.72s/it]"
     ]
    },
    {
     "name": "stdout",
     "output_type": "stream",
     "text": [
      "Mask token not in tokenized text\n",
      "50264 is not in list\n"
     ]
    },
    {
     "name": "stderr",
     "output_type": "stream",
     "text": [
      " 96%|█████████▌| 1675/1753 [1:10:03<01:46,  1.36s/it]"
     ]
    },
    {
     "name": "stdout",
     "output_type": "stream",
     "text": [
      "Mask token not in tokenized text\n",
      "50264 is not in list\n"
     ]
    },
    {
     "name": "stderr",
     "output_type": "stream",
     "text": [
      " 97%|█████████▋| 1694/1753 [1:10:39<01:29,  1.52s/it]"
     ]
    },
    {
     "name": "stdout",
     "output_type": "stream",
     "text": [
      "Mask token not in tokenized text\n",
      "50264 is not in list\n"
     ]
    },
    {
     "name": "stderr",
     "output_type": "stream",
     "text": [
      " 97%|█████████▋| 1703/1753 [1:10:55<01:16,  1.54s/it]"
     ]
    },
    {
     "name": "stdout",
     "output_type": "stream",
     "text": [
      "Mask token not in tokenized text\n",
      "50264 is not in list\n"
     ]
    },
    {
     "name": "stderr",
     "output_type": "stream",
     "text": [
      " 97%|█████████▋| 1707/1753 [1:10:59<00:57,  1.24s/it]"
     ]
    },
    {
     "name": "stdout",
     "output_type": "stream",
     "text": [
      "Mask token not in tokenized text\n",
      "50264 is not in list\n"
     ]
    },
    {
     "name": "stderr",
     "output_type": "stream",
     "text": [
      " 97%|█████████▋| 1709/1753 [1:11:02<01:04,  1.46s/it]"
     ]
    },
    {
     "name": "stdout",
     "output_type": "stream",
     "text": [
      "Mask token not in tokenized text\n",
      "50264 is not in list\n"
     ]
    },
    {
     "name": "stderr",
     "output_type": "stream",
     "text": [
      " 98%|█████████▊| 1714/1753 [1:11:09<00:59,  1.52s/it]"
     ]
    },
    {
     "name": "stdout",
     "output_type": "stream",
     "text": [
      "Mask token not in tokenized text\n",
      "50264 is not in list\n"
     ]
    },
    {
     "name": "stderr",
     "output_type": "stream",
     "text": [
      " 98%|█████████▊| 1718/1753 [1:11:15<01:04,  1.84s/it]"
     ]
    },
    {
     "name": "stdout",
     "output_type": "stream",
     "text": [
      "Mask token not in tokenized text\n",
      "50264 is not in list\n"
     ]
    },
    {
     "name": "stderr",
     "output_type": "stream",
     "text": [
      " 99%|█████████▊| 1730/1753 [1:11:42<01:16,  3.34s/it]"
     ]
    },
    {
     "name": "stdout",
     "output_type": "stream",
     "text": [
      "Mask token not in tokenized text\n",
      "50264 is not in list\n",
      "Mask token not in tokenized text\n",
      "50264 is not in list\n"
     ]
    },
    {
     "name": "stderr",
     "output_type": "stream",
     "text": [
      " 99%|█████████▉| 1743/1753 [1:11:56<00:10,  1.06s/it]"
     ]
    },
    {
     "name": "stdout",
     "output_type": "stream",
     "text": [
      "Mask token not in tokenized text\n",
      "50264 is not in list\n"
     ]
    },
    {
     "name": "stderr",
     "output_type": "stream",
     "text": [
      "100%|█████████▉| 1748/1753 [1:12:02<00:06,  1.36s/it]"
     ]
    },
    {
     "name": "stdout",
     "output_type": "stream",
     "text": [
      "Mask token not in tokenized text\n",
      "50264 is not in list\n"
     ]
    },
    {
     "name": "stderr",
     "output_type": "stream",
     "text": [
      "100%|██████████| 1753/1753 [1:12:08<00:00,  2.47s/it]\n"
     ]
    }
   ],
   "source": [
    "syntax_attributions = getInstanceSyntaxAttributionScore(codes, \n",
    "                                                        tokenizer, \n",
    "                                                        syntax_list)"
   ]
  },
  {
   "cell_type": "code",
   "execution_count": 54,
   "metadata": {},
   "outputs": [],
   "source": [
    "for syntaxType in syntax_list:\n",
    "    temp = []\n",
    "    for instance in syntax_attributions:\n",
    "        if len(instance[syntaxType]) != 0:\n",
    "            temp.append(np.array(instance[syntaxType]).squeeze(0).mean(axis=2))\n",
    "    temp = np.array(temp)\n",
    "    temp = temp.reshape(temp.shape[1], temp.shape[2], temp.shape[0])\n",
    "    avg_temp = temp.mean(axis=2)\n",
    "    avg_attns[syntaxType] = avg_temp\n",
    "            "
   ]
  },
  {
   "cell_type": "code",
   "execution_count": 55,
   "metadata": {},
   "outputs": [
    {
     "data": {
      "image/png": "[encoded data removed]",
      "text/plain": [
       "<Figure size 1200x2100 with 1 Axes>"
      ]
     },
     "metadata": {},
     "output_type": "display_data"
    }
   ],
   "source": [
    "def get_data_points(head_data):\n",
    "  xs, ys, avgs = [], [], []\n",
    "  for layer in range(12):\n",
    "    for head in range(12):\n",
    "      ys.append(head_data[layer, head])\n",
    "      xs.append(1 + layer)\n",
    "    avgs.append(head_data[layer].mean())\n",
    "  return xs, ys, avgs\n",
    "\n",
    "def add_line(key, ax, color, label, plot_avgs=True):\n",
    "  xs, ys, avgs = get_data_points(avg_attns[key])\n",
    "  ax.scatter(xs, ys, s=12, label=label, color=color)\n",
    "  if plot_avgs:\n",
    "    ax.plot(1 + np.arange(len(avgs)), avgs, color=color)\n",
    "  ax.legend(loc=\"best\")\n",
    "  ax.set_xlabel(\"Layer\")\n",
    "  ax.set_ylabel(\"Avg. Attribution\")\n",
    "  \n",
    "  \n",
    "\n",
    "BLACK = \"k\"\n",
    "GREEN = \"#59d98e\"\n",
    "SEA = \"#159d82\"\n",
    "BLUE = \"#3498db\"\n",
    "PURPLE = \"#9b59b6\"\n",
    "GREY = \"#95a5a6\"\n",
    "RED = \"#e74c3c\"\n",
    "ORANGE = \"#f39c12\"\n",
    "GRAY = \"#7f8c8d\"\n",
    "BROWN = \"#8d6e63\"\n",
    "PINK = \"#e91e63\"\n",
    "CYAN = \"#00bcd4\"\n",
    "YELLOW = \"#f1c40f\"\n",
    "\n",
    "plt.figure(figsize=(12, 21))\n",
    "ax = plt.subplot(4, 1, 1)\n",
    "for key, color, label in [(\"identifier\", GREEN, \"IDF\"),(\"separator\", RED, \"SEPS\"), (\"keyword\", BLUE, \"KEYS\"), (\"operator\", ORANGE, \"OPRS\"), (\"modifier\", PURPLE, \"MODS\"), (\"basictype\", YELLOW, \"BTS\"), (\"annotation\", BLACK, \"ANNS\"), (\"null\", GRAY, \"NULL\"), (\"string\", BROWN, \"STRS\"), (\"decimalfloatingpoint\", PINK, \"DFP\"), (\"decimalinteger\", CYAN, \"DINT\")]:\n",
    "  add_line(key, ax, color, label, plot_avgs=True)"
   ]
  },
  {
   "cell_type": "code",
   "execution_count": 35,
   "metadata": {},
   "outputs": [
    {
     "data": {
      "text/plain": [
       "dict_keys(['cls', 'sep', 'annotation', 'basictype', 'boolean', 'decimalinteger', 'identifier', 'keyword', 'modifier', 'operator', 'separator', 'null', 'string', 'decimalfloatingpoint'])"
      ]
     },
     "execution_count": 35,
     "metadata": {},
     "output_type": "execute_result"
    }
   ],
   "source": [
    "avg_attns.keys()"
   ]
  },
  {
   "cell_type": "code",
   "execution_count": null,
   "metadata": {},
   "outputs": [],
   "source": []
  }
 ],
 "metadata": {
  "kernelspec": {
   "display_name": "Python 3.8.13 ('cuBERT')",
   "language": "python",
   "name": "python3"
  },
  "language_info": {
   "codemirror_mode": {
    "name": "ipython",
    "version": 3
   },
   "file_extension": ".py",
   "mimetype": "text/x-python",
   "name": "python",
   "nbconvert_exporter": "python",
   "pygments_lexer": "ipython3",
   "version": "3.8.13 (default, Mar 28 2022, 11:38:47) \n[GCC 7.5.0]"
  },
  "orig_nbformat": 4,
  "vscode": {
   "interpreter": {
    "hash": "8492d8711f92acbd6f1f5de70669e0e0dfa9ae8288673c2cd77f66771fab39c9"
   }
  }
 },
 "nbformat": 4,
 "nbformat_minor": 2
}
