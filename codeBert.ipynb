{
 "cells": [
  {
   "cell_type": "code",
   "execution_count": 23,
   "metadata": {},
   "outputs": [],
   "source": [
    "# read a json file and save it as a pandas dataframe\n",
    "import pandas as pd \n",
    "df = pd.read_json('data/variable_misuse/20200621_Python_variable_misuse_datasets_train.json', lines=True)"
   ]
  },
  {
   "cell_type": "code",
   "execution_count": 24,
   "metadata": {},
   "outputs": [
    {
     "data": {
      "text/html": [
       "<div>\n",
       "<style scoped>\n",
       "    .dataframe tbody tr th:only-of-type {\n",
       "        vertical-align: middle;\n",
       "    }\n",
       "\n",
       "    .dataframe tbody tr th {\n",
       "        vertical-align: top;\n",
       "    }\n",
       "\n",
       "    .dataframe thead th {\n",
       "        text-align: right;\n",
       "    }\n",
       "</style>\n",
       "<table border=\"1\" class=\"dataframe\">\n",
       "  <thead>\n",
       "    <tr style=\"text-align: right;\">\n",
       "      <th></th>\n",
       "      <th>function</th>\n",
       "      <th>label</th>\n",
       "      <th>info</th>\n",
       "    </tr>\n",
       "  </thead>\n",
       "  <tbody>\n",
       "    <tr>\n",
       "      <th>0</th>\n",
       "      <td>\\n\\ndef __init__(self, parent=None, *args, **k...</td>\n",
       "      <td>Correct</td>\n",
       "      <td>dataset/ETHPy150Open eoyilmaz/anima/anima/ui/m...</td>\n",
       "    </tr>\n",
       "    <tr>\n",
       "      <th>1</th>\n",
       "      <td>\\n\\ndef __init__(self, parent=None, *args, **k...</td>\n",
       "      <td>Variable misuse</td>\n",
       "      <td>dataset/ETHPy150Open eoyilmaz/anima/anima/ui/m...</td>\n",
       "    </tr>\n",
       "    <tr>\n",
       "      <th>2</th>\n",
       "      <td>\\n\\ndef basicResults(self):\\n    ' @todo: docs...</td>\n",
       "      <td>Correct</td>\n",
       "      <td>dataset/ETHPy150Open sahana/eden/modules/s3db/...</td>\n",
       "    </tr>\n",
       "    <tr>\n",
       "      <th>3</th>\n",
       "      <td>\\n\\ndef basicResults(self):\\n    ' @todo: docs...</td>\n",
       "      <td>Variable misuse</td>\n",
       "      <td>dataset/ETHPy150Open sahana/eden/modules/s3db/...</td>\n",
       "    </tr>\n",
       "    <tr>\n",
       "      <th>4</th>\n",
       "      <td>\\n\\ndef search_services(self, name_or_id=None,...</td>\n",
       "      <td>Correct</td>\n",
       "      <td>dataset/ETHPy150Open openstack-infra/shade/sha...</td>\n",
       "    </tr>\n",
       "  </tbody>\n",
       "</table>\n",
       "</div>"
      ],
      "text/plain": [
       "                                            function            label  \\\n",
       "0  \\n\\ndef __init__(self, parent=None, *args, **k...          Correct   \n",
       "1  \\n\\ndef __init__(self, parent=None, *args, **k...  Variable misuse   \n",
       "2  \\n\\ndef basicResults(self):\\n    ' @todo: docs...          Correct   \n",
       "3  \\n\\ndef basicResults(self):\\n    ' @todo: docs...  Variable misuse   \n",
       "4  \\n\\ndef search_services(self, name_or_id=None,...          Correct   \n",
       "\n",
       "                                                info  \n",
       "0  dataset/ETHPy150Open eoyilmaz/anima/anima/ui/m...  \n",
       "1  dataset/ETHPy150Open eoyilmaz/anima/anima/ui/m...  \n",
       "2  dataset/ETHPy150Open sahana/eden/modules/s3db/...  \n",
       "3  dataset/ETHPy150Open sahana/eden/modules/s3db/...  \n",
       "4  dataset/ETHPy150Open openstack-infra/shade/sha...  "
      ]
     },
     "execution_count": 24,
     "metadata": {},
     "output_type": "execute_result"
    }
   ],
   "source": [
    "df.head()"
   ]
  },
  {
   "cell_type": "code",
   "execution_count": 25,
   "metadata": {},
   "outputs": [
    {
     "data": {
      "text/plain": [
       "(230062, 3)"
      ]
     },
     "execution_count": 25,
     "metadata": {},
     "output_type": "execute_result"
    }
   ],
   "source": [
    "df.shape"
   ]
  },
  {
   "cell_type": "code",
   "execution_count": 28,
   "metadata": {},
   "outputs": [
    {
     "name": "stdout",
     "output_type": "stream",
     "text": [
      "function:\n",
      "\n",
      "\n",
      "def __init__(self, parent=None, *args, **kwargs):\n",
      "    QtGui.QListWidget.__init__(self, parent, *args, **kwargs)\n",
      "    self._take_names = []\n",
      "    self.take_names = []\n",
      "\n",
      "165\n",
      "---------------------------------------------------------\n",
      "Target label:\n",
      "Correct\n",
      "---------------------------------------------------------\n",
      "info:\n",
      "dataset/ETHPy150Open eoyilmaz/anima/anima/ui/models.py TakesListWidget.__init__/original\n"
     ]
    }
   ],
   "source": [
    "# print the cell in the first row of the column 'function'\n",
    "row = 0\n",
    "print(\"function:\")\n",
    "print(df['function'][row])\n",
    "print(len(df['function'][row]))\n",
    "print(\"---------------------------------------------------------\")\n",
    "print(\"Target label:\")\n",
    "print(df['label'][row])\n",
    "print(\"---------------------------------------------------------\")\n",
    "print(\"info:\")\n",
    "print(df['info'][row])"
   ]
  },
  {
   "cell_type": "code",
   "execution_count": 30,
   "metadata": {},
   "outputs": [
    {
     "data": {
      "text/plain": [
       "'\\n\\ndef __init__(self, parent=None, *args, **kwargs):\\n    QtGui.QListWidget.__init__(self, parent, *args, **kwargs)\\n    self._take_names = []\\n    self.take_names = []\\n'"
      ]
     },
     "execution_count": 30,
     "metadata": {},
     "output_type": "execute_result"
    }
   ],
   "source": [
    "df['function'][row]"
   ]
  },
  {
   "cell_type": "code",
   "execution_count": null,
   "metadata": {},
   "outputs": [],
   "source": []
  }
 ],
 "metadata": {
  "kernelspec": {
   "display_name": "Python 3.8.13 ('pytorch')",
   "language": "python",
   "name": "python3"
  },
  "language_info": {
   "codemirror_mode": {
    "name": "ipython",
    "version": 3
   },
   "file_extension": ".py",
   "mimetype": "text/x-python",
   "name": "python",
   "nbconvert_exporter": "python",
   "pygments_lexer": "ipython3",
   "version": "3.8.13"
  },
  "orig_nbformat": 4,
  "vscode": {
   "interpreter": {
    "hash": "6f80dd88227f689b060fc7a23482e294c30dd2157322b82c776d76329e3bd769"
   }
  }
 },
 "nbformat": 4,
 "nbformat_minor": 2
}
